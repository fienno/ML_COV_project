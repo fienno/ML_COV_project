{
 "cells": [
  {
   "cell_type": "markdown",
   "metadata": {},
   "source": [
    "## <font color=red>Objectif:</font>\n",
    "\n",
    "Développer un modèle prédictif de la donnée « valeur foncière » pour les ventes (nature de la mutation=Vente, hors VEFA) de maison et appartement (code type local=1 ou 2) uniquement"
   ]
  },
  {
   "cell_type": "markdown",
   "metadata": {},
   "source": [
    "La construction de notre modèle prédictif passera par les étapes suivantes:\n",
    "- Analyse exploratoire et traitement des données \n",
    "- Modélisation et évaluation.\n",
    "\n",
    "Puis un tableau récapitulatif."
   ]
  },
  {
   "cell_type": "code",
   "execution_count": 1,
   "metadata": {},
   "outputs": [],
   "source": [
    "# Import des librairies manipulation des données\n",
    "import pandas as pd\n",
    "import numpy as np"
   ]
  },
  {
   "cell_type": "code",
   "execution_count": 2,
   "metadata": {},
   "outputs": [
    {
     "name": "stderr",
     "output_type": "stream",
     "text": [
      "/home/fienno/.local/lib/python3.6/site-packages/statsmodels/tools/_testing.py:19: FutureWarning: pandas.util.testing is deprecated. Use the functions in the public API at pandas.testing instead.\n",
      "  import pandas.util.testing as tm\n"
     ]
    }
   ],
   "source": [
    "# Import librairies de visualisation des données\n",
    "import matplotlib.pyplot as plt\n",
    "import seaborn as sns"
   ]
  },
  {
   "cell_type": "code",
   "execution_count": 3,
   "metadata": {},
   "outputs": [],
   "source": [
    "# Import librairie machine learning\n",
    "from sklearn.model_selection import train_test_split\n",
    "from sklearn.metrics import mean_squared_error, r2_score, mean_absolute_error, max_error, median_absolute_error\n",
    "from sklearn.tree import DecisionTreeRegressor\n",
    "#from sklearn.feature_selection import RFE\n",
    "from sklearn.ensemble import GradientBoostingRegressor, RandomForestRegressor, ExtraTreesRegressor"
   ]
  },
  {
   "cell_type": "markdown",
   "metadata": {},
   "source": [
    "# <font color=red>Chargement et analyse exploratoire des données:</font>"
   ]
  },
  {
   "cell_type": "markdown",
   "metadata": {},
   "source": [
    "Dans cet partie, nous sélectionnerons les observations correspondantes au type de locaux qui nous intéressent.\n",
    "\n",
    "Nous observerons qu'un grand nombre de colonnes sont vides et qu'aussi de nombreuses observations sont manquantes."
   ]
  },
  {
   "cell_type": "code",
   "execution_count": 4,
   "metadata": {},
   "outputs": [
    {
     "name": "stderr",
     "output_type": "stream",
     "text": [
      "/home/fienno/.local/lib/python3.6/site-packages/IPython/core/interactiveshell.py:3049: DtypeWarning: Columns (18,23,24,26,28,29,31,33,41) have mixed types.Specify dtype option on import or set low_memory=False.\n",
      "  interactivity=interactivity, compiler=compiler, result=result)\n"
     ]
    }
   ],
   "source": [
    "# Lecture des données\n",
    "df = pd.read_table('valeursfoncieres-2019.txt', sep='|')"
   ]
  },
  {
   "cell_type": "code",
   "execution_count": 5,
   "metadata": {},
   "outputs": [
    {
     "name": "stdout",
     "output_type": "stream",
     "text": [
      "Les 3 premières observations du jeu de données: \n",
      "   Code service CH  Reference document  1 Articles CGI  2 Articles CGI  \\\n",
      "0              NaN                 NaN             NaN             NaN   \n",
      "1              NaN                 NaN             NaN             NaN   \n",
      "2              NaN                 NaN             NaN             NaN   \n",
      "\n",
      "   3 Articles CGI  4 Articles CGI  5 Articles CGI  No disposition  \\\n",
      "0             NaN             NaN             NaN               1   \n",
      "1             NaN             NaN             NaN               1   \n",
      "2             NaN             NaN             NaN               1   \n",
      "\n",
      "  Date mutation Nature mutation  ... Surface Carrez du 5eme lot  \\\n",
      "0    04/01/2019           Vente  ...                        NaN   \n",
      "1    04/01/2019           Vente  ...                        NaN   \n",
      "2    04/01/2019           Vente  ...                        NaN   \n",
      "\n",
      "   Nombre de lots Code type local   Type local Identifiant local  \\\n",
      "0               1             2.0  Appartement               NaN   \n",
      "1               2             2.0  Appartement               NaN   \n",
      "2               1             3.0   Dépendance               NaN   \n",
      "\n",
      "  Surface reelle bati  Nombre pieces principales Nature culture  \\\n",
      "0                20.0                        1.0            NaN   \n",
      "1                62.0                        3.0            NaN   \n",
      "2                 0.0                        0.0            NaN   \n",
      "\n",
      "  Nature culture speciale  Surface terrain  \n",
      "0                     NaN              NaN  \n",
      "1                     NaN              NaN  \n",
      "2                     NaN              NaN  \n",
      "\n",
      "[3 rows x 43 columns]\n",
      "\n",
      "\n",
      "Le fichier comporte 2535791 lignes et 43 colonnes.\n",
      "\n",
      "\n",
      "La liste des intitulés des colomnes: \n",
      "Index(['Code service CH', 'Reference document', '1 Articles CGI',\n",
      "       '2 Articles CGI', '3 Articles CGI', '4 Articles CGI', '5 Articles CGI',\n",
      "       'No disposition', 'Date mutation', 'Nature mutation', 'Valeur fonciere',\n",
      "       'No voie', 'B/T/Q', 'Type de voie', 'Code voie', 'Voie', 'Code postal',\n",
      "       'Commune', 'Code departement', 'Code commune', 'Prefixe de section',\n",
      "       'Section', 'No plan', 'No Volume', '1er lot',\n",
      "       'Surface Carrez du 1er lot', '2eme lot', 'Surface Carrez du 2eme lot',\n",
      "       '3eme lot', 'Surface Carrez du 3eme lot', '4eme lot',\n",
      "       'Surface Carrez du 4eme lot', '5eme lot', 'Surface Carrez du 5eme lot',\n",
      "       'Nombre de lots', 'Code type local', 'Type local', 'Identifiant local',\n",
      "       'Surface reelle bati', 'Nombre pieces principales', 'Nature culture',\n",
      "       'Nature culture speciale', 'Surface terrain'],\n",
      "      dtype='object')\n",
      "\n",
      "\n",
      "Identifions et comptons le nobmre d'observations vides du jeu de données: \n",
      "Code service CH               2535791\n",
      "Reference document            2535791\n",
      "1 Articles CGI                2535791\n",
      "2 Articles CGI                2535791\n",
      "3 Articles CGI                2535791\n",
      "4 Articles CGI                2535791\n",
      "5 Articles CGI                2535791\n",
      "No disposition                      0\n",
      "Date mutation                       0\n",
      "Nature mutation                     0\n",
      "Valeur fonciere                 29261\n",
      "No voie                       1025638\n",
      "B/T/Q                         2426362\n",
      "Type de voie                  1053720\n",
      "Code voie                       28189\n",
      "Voie                            28354\n",
      "Code postal                     28323\n",
      "Commune                             0\n",
      "Code departement                    0\n",
      "Code commune                        0\n",
      "Prefixe de section            2408956\n",
      "Section                            74\n",
      "No plan                             0\n",
      "No Volume                     2529165\n",
      "1er lot                       1753172\n",
      "Surface Carrez du 1er lot     2314726\n",
      "2eme lot                      2372713\n",
      "Surface Carrez du 2eme lot    2481517\n",
      "3eme lot                      2509709\n",
      "Surface Carrez du 3eme lot    2530577\n",
      "4eme lot                      2526555\n",
      "Surface Carrez du 4eme lot    2534376\n",
      "5eme lot                      2531364\n",
      "Surface Carrez du 5eme lot    2535182\n",
      "Nombre de lots                      0\n",
      "Code type local               1182459\n",
      "Type local                    1182459\n",
      "Identifiant local             2535791\n",
      "Surface reelle bati           1184176\n",
      "Nombre pieces principales     1184176\n",
      "Nature culture                 792958\n",
      "Nature culture speciale       2422938\n",
      "Surface terrain                792958\n",
      "dtype: int64\n"
     ]
    }
   ],
   "source": [
    "# 3 premières observations du dataset\n",
    "print(\"Les 3 premières observations du jeu de données: \")\n",
    "print(df.head(3))\n",
    "print('\\n')\n",
    "# dimensions globales du fichier\n",
    "print('Le fichier comporte {} lignes et {} colonnes.'.format(df.shape[0], df.shape[1]))\n",
    "print('\\n')\n",
    "print(\"La liste des intitulés des colomnes: \")\n",
    "print(df.columns)\n",
    "print('\\n')\n",
    "# Identifier les lignes et colonnes vides \n",
    "print(\"Identifions et comptons le nobmre d'observations vides du jeu de données: \")\n",
    "print(df.isna().sum())"
   ]
  },
  {
   "cell_type": "markdown",
   "metadata": {},
   "source": [
    "# <font color=red>Traitement des données.</font>"
   ]
  },
  {
   "cell_type": "markdown",
   "metadata": {},
   "source": [
    " L'analyse précédente nous a confirmé l'existence de colonne vides et d'observations manquantes dans \n",
    " plusieurs des colonnes qui nous intéressent. Dans ce notebook, nous allons supprimer les \n",
    " observations comportant des données manquantes, nous identifierons les outliers sans les modifier."
   ]
  },
  {
   "cell_type": "code",
   "execution_count": 6,
   "metadata": {},
   "outputs": [
    {
     "name": "stdout",
     "output_type": "stream",
     "text": [
      "Suppression des colonnes vides\n",
      "Vérification de la suppression effective des colonnes vides\n",
      "No disposition                      0\n",
      "Date mutation                       0\n",
      "Nature mutation                     0\n",
      "Valeur fonciere                 29261\n",
      "No voie                       1025638\n",
      "B/T/Q                         2426362\n",
      "Type de voie                  1053720\n",
      "Code voie                       28189\n",
      "Voie                            28354\n",
      "Code postal                     28323\n",
      "Commune                             0\n",
      "Code departement                    0\n",
      "Code commune                        0\n",
      "Prefixe de section            2408956\n",
      "Section                            74\n",
      "No plan                             0\n",
      "No Volume                     2529165\n",
      "1er lot                       1753172\n",
      "Surface Carrez du 1er lot     2314726\n",
      "2eme lot                      2372713\n",
      "Surface Carrez du 2eme lot    2481517\n",
      "3eme lot                      2509709\n",
      "Surface Carrez du 3eme lot    2530577\n",
      "4eme lot                      2526555\n",
      "Surface Carrez du 4eme lot    2534376\n",
      "5eme lot                      2531364\n",
      "Surface Carrez du 5eme lot    2535182\n",
      "Nombre de lots                      0\n",
      "Code type local               1182459\n",
      "Type local                    1182459\n",
      "Surface reelle bati           1184176\n",
      "Nombre pieces principales     1184176\n",
      "Nature culture                 792958\n",
      "Nature culture speciale       2422938\n",
      "Surface terrain                792958\n",
      "dtype: int64\n"
     ]
    }
   ],
   "source": [
    "print(\"Suppression des colonnes vides\")\n",
    "dfNaN = df.dropna(axis=1, how='all')\n",
    "print(\"Vérification de la suppression effective des colonnes vides\")\n",
    "print(dfNaN.isna().sum())"
   ]
  },
  {
   "cell_type": "markdown",
   "metadata": {},
   "source": [
    "Sélectionner des observations qui nous intéressent:\n",
    "\n",
    "il s'agit pour la colonne `Nature de la mutation` des `Vente en l'état futur d'achèvement`\n",
    "et les colonnes 36 et 37: sélectionner les appartements (type 2) et maisons (type 1)"
   ]
  },
  {
   "cell_type": "markdown",
   "metadata": {},
   "source": [
    "####  Détermination du contenu de chaque colonne d'intérêt:"
   ]
  },
  {
   "cell_type": "code",
   "execution_count": 7,
   "metadata": {},
   "outputs": [
    {
     "name": "stdout",
     "output_type": "stream",
     "text": [
      "Liste des valeurs distinctes dans la colonne Nature de la mutation:\n",
      "['Vente' 'Echange' 'Vente terrain à bâtir'\n",
      " \"Vente en l'état futur d'achèvement\" 'Adjudication' 'Expropriation']\n",
      "Nombre de valeurs unique: \n",
      "6\n",
      "\n",
      "\n",
      "Liste des valeurs distinctes dans la colonne Code Type local:\n",
      "[ 2.  3.  1. nan  4.]\n",
      "Nombre de valeurs unique: \n",
      "4\n",
      "\n",
      "\n",
      "Liste des valeurs distinctes dans la colonne Type local:\n",
      "['Appartement' 'Dépendance' 'Maison' nan\n",
      " 'Local industriel. commercial ou assimilé']\n",
      "Nombre de valeurs unique: \n",
      "4\n",
      "\n",
      "\n",
      "Liste des valeurs distinctes dans la colonne Date mutation: \n",
      "['04/01/2019' '08/01/2019' '07/01/2019' '03/01/2019' '12/01/2019'\n",
      " '09/01/2019' '15/01/2019' '11/01/2019' '16/01/2019' '21/01/2019'\n",
      " '10/01/2019' '17/01/2019' '18/01/2019' '14/01/2019' '23/01/2019'\n",
      " '24/01/2019' '22/01/2019' '25/01/2019' '28/01/2019' '31/01/2019'\n",
      " '29/01/2019' '30/01/2019' '01/02/2019' '04/02/2019' '05/02/2019'\n",
      " '13/02/2019' '08/02/2019' '07/02/2019' '12/02/2019' '11/02/2019'\n",
      " '06/02/2019' '14/02/2019' '15/02/2019' '19/02/2019' '20/02/2019'\n",
      " '18/02/2019' '25/02/2019' '22/02/2019' '16/02/2019' '27/02/2019'\n",
      " '21/02/2019' '28/02/2019' '26/02/2019' '04/03/2019' '01/03/2019'\n",
      " '05/03/2019' '08/03/2019' '11/03/2019' '06/03/2019' '07/03/2019'\n",
      " '14/03/2019' '15/03/2019' '13/03/2019' '09/03/2019' '18/03/2019'\n",
      " '20/03/2019' '12/03/2019' '19/03/2019' '23/03/2019' '21/03/2019'\n",
      " '25/03/2019' '22/03/2019' '26/03/2019' '28/03/2019' '27/03/2019'\n",
      " '29/03/2019' '01/04/2019' '03/04/2019' '05/04/2019' '02/04/2019'\n",
      " '04/04/2019' '10/04/2019' '08/04/2019' '12/04/2019' '09/04/2019'\n",
      " '11/04/2019' '17/04/2019' '16/04/2019' '15/04/2019' '18/04/2019'\n",
      " '25/04/2019' '26/04/2019' '24/04/2019' '19/04/2019' '23/04/2019'\n",
      " '02/05/2019' '30/04/2019' '06/05/2019' '29/04/2019' '03/05/2019'\n",
      " '07/05/2019' '13/05/2019' '27/04/2019' '14/05/2019' '10/05/2019'\n",
      " '15/05/2019' '09/05/2019' '20/04/2019' '17/05/2019' '18/05/2019'\n",
      " '20/05/2019' '16/05/2019' '21/05/2019' '08/05/2019' '22/05/2019'\n",
      " '23/05/2019' '25/05/2019' '24/05/2019' '04/05/2019' '29/05/2019'\n",
      " '31/05/2019' '28/05/2019' '03/06/2019' '05/06/2019' '04/06/2019'\n",
      " '07/06/2019' '27/05/2019' '13/06/2019' '06/06/2019' '11/06/2019'\n",
      " '14/06/2019' '12/06/2019' '10/06/2019' '19/06/2019' '17/06/2019'\n",
      " '18/06/2019' '20/06/2019' '21/06/2019' '25/06/2019' '24/06/2019'\n",
      " '22/06/2019' '27/06/2019' '28/06/2019' '26/06/2019' '29/06/2019'\n",
      " '01/07/2019' '04/07/2019' '03/07/2019' '02/07/2019' '05/07/2019'\n",
      " '15/06/2019' '08/07/2019' '06/07/2019' '09/07/2019' '08/06/2019'\n",
      " '10/07/2019' '11/07/2019' '30/07/2019' '22/07/2019' '31/07/2019'\n",
      " '01/08/2019' '19/07/2019' '18/07/2019' '25/07/2019' '23/07/2019'\n",
      " '16/07/2019' '26/07/2019' '17/07/2019' '29/07/2019' '24/07/2019'\n",
      " '12/07/2019' '30/09/2019' '27/12/2019' '02/01/2019' '19/01/2019'\n",
      " '26/01/2019' '09/02/2019' '02/03/2019' '30/03/2019' '06/04/2019'\n",
      " '13/04/2019' '11/05/2019' '01/06/2019' '15/07/2019' '20/07/2019'\n",
      " '27/07/2019' '02/08/2019' '13/07/2019' '05/08/2019' '06/08/2019'\n",
      " '09/08/2019' '08/08/2019' '13/08/2019' '07/08/2019' '20/08/2019'\n",
      " '19/08/2019' '21/08/2019' '12/08/2019' '14/08/2019' '22/08/2019'\n",
      " '27/08/2019' '26/08/2019' '31/08/2019' '28/08/2019' '16/08/2019'\n",
      " '23/08/2019' '29/08/2019' '02/09/2019' '30/08/2019' '05/09/2019'\n",
      " '04/09/2019' '06/09/2019' '09/09/2019' '10/09/2019' '03/09/2019'\n",
      " '11/09/2019' '13/09/2019' '12/09/2019' '17/09/2019' '19/09/2019'\n",
      " '16/09/2019' '18/09/2019' '25/09/2019' '20/09/2019' '24/09/2019'\n",
      " '23/09/2019' '26/09/2019' '27/09/2019' '02/10/2019' '01/10/2019'\n",
      " '21/09/2019' '03/10/2019' '28/09/2019' '04/10/2019' '07/10/2019'\n",
      " '08/10/2019' '09/10/2019' '11/10/2019' '10/10/2019' '12/10/2019'\n",
      " '15/10/2019' '16/10/2019' '14/10/2019' '17/10/2019' '21/10/2019'\n",
      " '22/10/2019' '18/10/2019' '23/10/2019' '19/10/2019' '24/10/2019'\n",
      " '25/10/2019' '29/10/2019' '28/10/2019' '30/10/2019' '31/10/2019'\n",
      " '26/10/2019' '06/11/2019' '05/11/2019' '04/11/2019' '13/11/2019'\n",
      " '08/11/2019' '15/11/2019' '14/11/2019' '18/11/2019' '12/11/2019'\n",
      " '20/11/2019' '19/11/2019' '07/11/2019' '22/11/2019' '09/11/2019'\n",
      " '21/11/2019' '26/11/2019' '29/11/2019' '02/12/2019' '04/12/2019'\n",
      " '28/11/2019' '03/12/2019' '27/11/2019' '25/11/2019' '05/12/2019'\n",
      " '12/12/2019' '30/11/2019' '06/12/2019' '09/12/2019' '11/12/2019'\n",
      " '10/12/2019' '16/12/2019' '13/12/2019' '23/11/2019' '19/12/2019'\n",
      " '17/12/2019' '20/12/2019' '18/12/2019' '23/12/2019' '30/12/2019'\n",
      " '24/12/2019' '28/12/2019' '26/12/2019' '31/12/2019' '05/01/2019'\n",
      " '02/02/2019' '23/02/2019' '16/03/2019' '03/08/2019' '24/08/2019'\n",
      " '17/08/2019' '07/09/2019' '14/09/2019' '02/11/2019' '16/11/2019'\n",
      " '14/12/2019' '21/12/2019' '07/12/2019' '08/12/2019' '15/08/2019'\n",
      " '05/10/2019' '10/08/2019' '18/08/2019' '01/01/2019' '24/03/2019'\n",
      " '22/04/2019' '27/01/2019' '10/03/2019' '13/01/2019' '28/07/2019'\n",
      " '30/05/2019' '03/02/2019' '26/05/2019' '22/09/2019' '01/05/2019'\n",
      " '19/05/2019' '01/11/2019' '10/02/2019' '03/03/2019' '25/08/2019'\n",
      " '08/09/2019' '15/12/2019' '10/11/2019' '25/12/2019' '29/09/2019'\n",
      " '11/11/2019' '15/09/2019' '23/06/2019' '12/05/2019' '07/04/2019'\n",
      " '30/06/2019' '06/01/2019' '01/12/2019' '21/07/2019' '31/03/2019'\n",
      " '14/04/2019' '02/06/2019' '21/04/2019' '07/07/2019' '20/01/2019'\n",
      " '11/08/2019' '27/10/2019' '28/04/2019' '17/02/2019' '29/12/2019'\n",
      " '16/06/2019' '17/03/2019' '01/09/2019' '05/05/2019' '24/02/2019'\n",
      " '13/10/2019' '22/12/2019' '04/08/2019' '20/10/2019' '09/06/2019'\n",
      " '17/11/2019']\n",
      "Nombre de valeurs unique: \n",
      "361\n"
     ]
    }
   ],
   "source": [
    "print(\"Liste des valeurs distinctes dans la colonne Nature de la mutation:\")\n",
    "print(dfNaN['Nature mutation'].unique())\n",
    "print(\"Nombre de valeurs unique: \")\n",
    "print(dfNaN['Nature mutation'].nunique())\n",
    "print('\\n')\n",
    "print(\"Liste des valeurs distinctes dans la colonne Code Type local:\")\n",
    "print(dfNaN['Code type local'].unique())\n",
    "print(\"Nombre de valeurs unique: \")\n",
    "print(dfNaN['Code type local'].nunique())\n",
    "print('\\n')\n",
    "print(\"Liste des valeurs distinctes dans la colonne Type local:\")\n",
    "print(dfNaN['Type local'].unique())\n",
    "print(\"Nombre de valeurs unique: \")\n",
    "print(dfNaN['Type local'].nunique())\n",
    "print('\\n')\n",
    "print(\"Liste des valeurs distinctes dans la colonne Date mutation: \")\n",
    "print(dfNaN['Date mutation'].unique())\n",
    "print(\"Nombre de valeurs unique: \")\n",
    "print(dfNaN['Date mutation'].nunique())"
   ]
  },
  {
   "cell_type": "markdown",
   "metadata": {},
   "source": [
    "####   Sélection et informations sur les colonnes d'intérêt"
   ]
  },
  {
   "cell_type": "code",
   "execution_count": 8,
   "metadata": {},
   "outputs": [
    {
     "name": "stdout",
     "output_type": "stream",
     "text": [
      "Dimension du jeu de données restreint aux observations VEFA de la colonne Nature de la mutation. \n",
      "\n",
      "Ce jeu de données comporte 185441 lignes et 35 colonnes liées au VEFA.\n",
      "\n",
      "\n",
      "Dimension du jeu de données restreint aux observations VEFA de la colonne Nature de la mutation et des appartements et maisons de la colonnes Type local. \n",
      "\n",
      "Ce jeu de données comporte 6663 lignes et 35 colonnes liées au VEFA pour les appartements et les maisons.\n",
      "C'est donc sur ces données que nous allons porter notre attention.\n",
      "Nom des colonnes: \n",
      "\n",
      "Index(['No disposition', 'Date mutation', 'Nature mutation', 'Valeur fonciere',\n",
      "       'No voie', 'B/T/Q', 'Type de voie', 'Code voie', 'Voie', 'Code postal',\n",
      "       'Commune', 'Code departement', 'Code commune', 'Prefixe de section',\n",
      "       'Section', 'No plan', 'No Volume', '1er lot',\n",
      "       'Surface Carrez du 1er lot', '2eme lot', 'Surface Carrez du 2eme lot',\n",
      "       '3eme lot', 'Surface Carrez du 3eme lot', '4eme lot',\n",
      "       'Surface Carrez du 4eme lot', '5eme lot', 'Surface Carrez du 5eme lot',\n",
      "       'Nombre de lots', 'Code type local', 'Type local',\n",
      "       'Surface reelle bati', 'Nombre pieces principales', 'Nature culture',\n",
      "       'Nature culture speciale', 'Surface terrain'],\n",
      "      dtype='object')\n",
      "\n",
      "\n",
      "Quelques informations sur les types des données contenues dans les différentes colonnes: \n",
      "\n",
      "<class 'pandas.core.frame.DataFrame'>\n",
      "Int64Index: 6663 entries, 647 to 2527552\n",
      "Data columns (total 35 columns):\n",
      " #   Column                      Non-Null Count  Dtype  \n",
      "---  ------                      --------------  -----  \n",
      " 0   No disposition              6663 non-null   int64  \n",
      " 1   Date mutation               6663 non-null   object \n",
      " 2   Nature mutation             6663 non-null   object \n",
      " 3   Valeur fonciere             6650 non-null   object \n",
      " 4   No voie                     5114 non-null   float64\n",
      " 5   B/T/Q                       268 non-null    object \n",
      " 6   Type de voie                5788 non-null   object \n",
      " 7   Code voie                   6663 non-null   object \n",
      " 8   Voie                        6662 non-null   object \n",
      " 9   Code postal                 6661 non-null   float64\n",
      " 10  Commune                     6663 non-null   object \n",
      " 11  Code departement            6663 non-null   object \n",
      " 12  Code commune                6663 non-null   int64  \n",
      " 13  Prefixe de section          515 non-null    float64\n",
      " 14  Section                     6663 non-null   object \n",
      " 15  No plan                     6663 non-null   int64  \n",
      " 16  No Volume                   0 non-null      object \n",
      " 17  1er lot                     6264 non-null   object \n",
      " 18  Surface Carrez du 1er lot   922 non-null    object \n",
      " 19  2eme lot                    856 non-null    object \n",
      " 20  Surface Carrez du 2eme lot  42 non-null     object \n",
      " 21  3eme lot                    182 non-null    object \n",
      " 22  Surface Carrez du 3eme lot  11 non-null     object \n",
      " 23  4eme lot                    27 non-null     float64\n",
      " 24  Surface Carrez du 4eme lot  1 non-null      object \n",
      " 25  5eme lot                    3 non-null      float64\n",
      " 26  Surface Carrez du 5eme lot  0 non-null      object \n",
      " 27  Nombre de lots              6663 non-null   int64  \n",
      " 28  Code type local             6663 non-null   float64\n",
      " 29  Type local                  6663 non-null   object \n",
      " 30  Surface reelle bati         6660 non-null   float64\n",
      " 31  Nombre pieces principales   6660 non-null   float64\n",
      " 32  Nature culture              395 non-null    object \n",
      " 33  Nature culture speciale     4 non-null      object \n",
      " 34  Surface terrain             395 non-null    float64\n",
      "dtypes: float64(9), int64(4), object(22)\n",
      "memory usage: 1.8+ MB\n",
      "None\n",
      "\n",
      "\n"
     ]
    }
   ],
   "source": [
    "dfNaN_VEFA = dfNaN[dfNaN['Nature mutation'] == \"Vente en l'état futur d'achèvement\"]\n",
    "print(\"Dimension du jeu de données restreint aux observations VEFA de la colonne Nature de la mutation. \\n\")\n",
    "print('Ce jeu de données comporte', dfNaN_VEFA.shape[0],'lignes et',dfNaN_VEFA.shape[1],'colonnes liées au VEFA.')\n",
    "print('\\n')\n",
    "dfNaN_appart_maison = dfNaN[(dfNaN['Nature mutation'] == \"Vente en l'état futur d'achèvement\") & ((dfNaN['Type local'] == \"Appartement\") | (dfNaN['Type local'] == \"Maison\"))]\n",
    "print(\"Dimension du jeu de données restreint aux observations VEFA de la colonne Nature de la mutation et des appartements et maisons de la colonnes Type local. \\n\")\n",
    "print('Ce jeu de données comporte', dfNaN_appart_maison.shape[0],'lignes et',dfNaN_appart_maison.shape[1],'colonnes liées au VEFA pour les appartements et les maisons.')\n",
    "print(\"C'est donc sur ces données que nous allons porter notre attention.\")\n",
    "print('Nom des colonnes: \\n')\n",
    "print(dfNaN_appart_maison.columns)\n",
    "print('\\n')\n",
    "print(\"Quelques informations sur les types des données contenues dans les différentes colonnes: \\n\")\n",
    "print(dfNaN_appart_maison.info())\n",
    "print('\\n')"
   ]
  },
  {
   "cell_type": "markdown",
   "metadata": {},
   "source": [
    "Nous allons modifier le type des valeurs contenues dans certaines colonnes "
   ]
  },
  {
   "cell_type": "code",
   "execution_count": 9,
   "metadata": {},
   "outputs": [
    {
     "name": "stdout",
     "output_type": "stream",
     "text": [
      "Colonnes Code voie et code commune transformé en string.\n"
     ]
    },
    {
     "name": "stderr",
     "output_type": "stream",
     "text": [
      "/home/fienno/.local/lib/python3.6/site-packages/pandas/core/frame.py:2963: SettingWithCopyWarning: \n",
      "A value is trying to be set on a copy of a slice from a DataFrame.\n",
      "Try using .loc[row_indexer,col_indexer] = value instead\n",
      "\n",
      "See the caveats in the documentation: https://pandas.pydata.org/pandas-docs/stable/user_guide/indexing.html#returning-a-view-versus-a-copy\n",
      "  self[k1] = value[k2]\n"
     ]
    }
   ],
   "source": [
    "print(\"Colonnes Code voie et code commune transformé en string.\")\n",
    "dfNaN_appart_maison[['Code voie', 'Code commune']] = dfNaN_appart_maison[['Code voie', 'Code commune']].astype(str)"
   ]
  },
  {
   "cell_type": "code",
   "execution_count": 10,
   "metadata": {},
   "outputs": [
    {
     "name": "stdout",
     "output_type": "stream",
     "text": [
      "Changement du type de la Colonne valeurs foncière en numerique.\n"
     ]
    },
    {
     "name": "stderr",
     "output_type": "stream",
     "text": [
      "/home/fienno/.local/lib/python3.6/site-packages/ipykernel_launcher.py:3: SettingWithCopyWarning: \n",
      "A value is trying to be set on a copy of a slice from a DataFrame.\n",
      "Try using .loc[row_indexer,col_indexer] = value instead\n",
      "\n",
      "See the caveats in the documentation: https://pandas.pydata.org/pandas-docs/stable/user_guide/indexing.html#returning-a-view-versus-a-copy\n",
      "  This is separate from the ipykernel package so we can avoid doing imports until\n",
      "/home/fienno/.local/lib/python3.6/site-packages/ipykernel_launcher.py:4: SettingWithCopyWarning: \n",
      "A value is trying to be set on a copy of a slice from a DataFrame.\n",
      "Try using .loc[row_indexer,col_indexer] = value instead\n",
      "\n",
      "See the caveats in the documentation: https://pandas.pydata.org/pandas-docs/stable/user_guide/indexing.html#returning-a-view-versus-a-copy\n",
      "  after removing the cwd from sys.path.\n",
      "/home/fienno/.local/lib/python3.6/site-packages/ipykernel_launcher.py:5: SettingWithCopyWarning: \n",
      "A value is trying to be set on a copy of a slice from a DataFrame.\n",
      "Try using .loc[row_indexer,col_indexer] = value instead\n",
      "\n",
      "See the caveats in the documentation: https://pandas.pydata.org/pandas-docs/stable/user_guide/indexing.html#returning-a-view-versus-a-copy\n",
      "  \"\"\"\n"
     ]
    }
   ],
   "source": [
    "print(\"Changement du type de la Colonne valeurs foncière en numerique.\")\n",
    "def change_type_VF(data):\n",
    "    data['Valeur fonciere'] = data['Valeur fonciere'].astype(str)\n",
    "    data['Valeur fonciere'] = data['Valeur fonciere'].apply(lambda x: x.replace(',', '.'))\n",
    "    data['Valeur fonciere'] = data['Valeur fonciere'].astype(float)\n",
    "    return data\n",
    "\n",
    "dfNaN_appart_maison = change_type_VF(dfNaN_appart_maison)"
   ]
  },
  {
   "cell_type": "code",
   "execution_count": 11,
   "metadata": {},
   "outputs": [
    {
     "name": "stdout",
     "output_type": "stream",
     "text": [
      "Vérification que les changements effectués sont effectifs\n",
      "<class 'pandas.core.frame.DataFrame'>\n",
      "Int64Index: 6663 entries, 647 to 2527552\n",
      "Data columns (total 35 columns):\n",
      " #   Column                      Non-Null Count  Dtype  \n",
      "---  ------                      --------------  -----  \n",
      " 0   No disposition              6663 non-null   int64  \n",
      " 1   Date mutation               6663 non-null   object \n",
      " 2   Nature mutation             6663 non-null   object \n",
      " 3   Valeur fonciere             6650 non-null   float64\n",
      " 4   No voie                     5114 non-null   float64\n",
      " 5   B/T/Q                       268 non-null    object \n",
      " 6   Type de voie                5788 non-null   object \n",
      " 7   Code voie                   6663 non-null   object \n",
      " 8   Voie                        6662 non-null   object \n",
      " 9   Code postal                 6661 non-null   float64\n",
      " 10  Commune                     6663 non-null   object \n",
      " 11  Code departement            6663 non-null   object \n",
      " 12  Code commune                6663 non-null   object \n",
      " 13  Prefixe de section          515 non-null    float64\n",
      " 14  Section                     6663 non-null   object \n",
      " 15  No plan                     6663 non-null   int64  \n",
      " 16  No Volume                   0 non-null      object \n",
      " 17  1er lot                     6264 non-null   object \n",
      " 18  Surface Carrez du 1er lot   922 non-null    object \n",
      " 19  2eme lot                    856 non-null    object \n",
      " 20  Surface Carrez du 2eme lot  42 non-null     object \n",
      " 21  3eme lot                    182 non-null    object \n",
      " 22  Surface Carrez du 3eme lot  11 non-null     object \n",
      " 23  4eme lot                    27 non-null     float64\n",
      " 24  Surface Carrez du 4eme lot  1 non-null      object \n",
      " 25  5eme lot                    3 non-null      float64\n",
      " 26  Surface Carrez du 5eme lot  0 non-null      object \n",
      " 27  Nombre de lots              6663 non-null   int64  \n",
      " 28  Code type local             6663 non-null   float64\n",
      " 29  Type local                  6663 non-null   object \n",
      " 30  Surface reelle bati         6660 non-null   float64\n",
      " 31  Nombre pieces principales   6660 non-null   float64\n",
      " 32  Nature culture              395 non-null    object \n",
      " 33  Nature culture speciale     4 non-null      object \n",
      " 34  Surface terrain             395 non-null    float64\n",
      "dtypes: float64(10), int64(3), object(22)\n",
      "memory usage: 1.8+ MB\n",
      "None\n"
     ]
    }
   ],
   "source": [
    "print(\"Vérification que les changements effectués sont effectifs\")\n",
    "print(dfNaN_appart_maison.info())"
   ]
  },
  {
   "cell_type": "code",
   "execution_count": 12,
   "metadata": {},
   "outputs": [
    {
     "name": "stdout",
     "output_type": "stream",
     "text": [
      "Suppression des colonnes pour lesquelles plus de la moitié des valeurs sont manquantes\n",
      "Index(['No voie', 'B/T/Q', 'Prefixe de section', 'No Volume',\n",
      "       'Surface Carrez du 1er lot', '2eme lot', 'Surface Carrez du 2eme lot',\n",
      "       '3eme lot', 'Surface Carrez du 3eme lot', '4eme lot',\n",
      "       'Surface Carrez du 4eme lot', '5eme lot', 'Surface Carrez du 5eme lot',\n",
      "       'Nature culture', 'Nature culture speciale', 'Surface terrain'],\n",
      "      dtype='object')\n",
      "\n",
      "\n",
      "Nombre de colonnes à supprimer:  16\n",
      "\n",
      "\n",
      "Le jeu de données comporte maintenant 6663 lignes et 19 colonnes.\n"
     ]
    }
   ],
   "source": [
    "print('Suppression des colonnes pour lesquelles plus de la moitié des valeurs sont manquantes')\n",
    "colonnes = dfNaN_appart_maison.columns[dfNaN_appart_maison.isnull().sum() > 1000]\n",
    "print(colonnes)\n",
    "print('\\n')\n",
    "print(\"Nombre de colonnes à supprimer: \", len(colonnes))\n",
    "dfAppartMaisonDrop = dfNaN_appart_maison.drop(colonnes, axis = 1)\n",
    "print('\\n')\n",
    "print(\"Le jeu de données comporte maintenant\", dfAppartMaisonDrop.shape[0], \"lignes et\", dfAppartMaisonDrop.shape[1], 'colonnes.')"
   ]
  },
  {
   "cell_type": "code",
   "execution_count": 13,
   "metadata": {},
   "outputs": [
    {
     "name": "stdout",
     "output_type": "stream",
     "text": [
      "Identification du nombre de cellules vides par colonnes:\n",
      "No disposition                 0\n",
      "Date mutation                  0\n",
      "Nature mutation                0\n",
      "Valeur fonciere               13\n",
      "Type de voie                 875\n",
      "Code voie                      0\n",
      "Voie                           1\n",
      "Code postal                    2\n",
      "Commune                        0\n",
      "Code departement               0\n",
      "Code commune                   0\n",
      "Section                        0\n",
      "No plan                        0\n",
      "1er lot                      399\n",
      "Nombre de lots                 0\n",
      "Code type local                0\n",
      "Type local                     0\n",
      "Surface reelle bati            3\n",
      "Nombre pieces principales      3\n",
      "dtype: int64\n"
     ]
    }
   ],
   "source": [
    "print(\"Identification du nombre de cellules vides par colonnes:\")\n",
    "print(dfAppartMaisonDrop.isnull().sum())"
   ]
  },
  {
   "cell_type": "markdown",
   "metadata": {},
   "source": [
    "À ce stade, le jeu de données comporte 19 variables et une cible, \n",
    "les variables `Nature de mutation`  et `code type local` aussi seront supprimés.\n",
    "\n",
    "De plus pour la construction du premier modèle, nous allons supprimer toutes les observations comportant des données manquantes."
   ]
  },
  {
   "cell_type": "markdown",
   "metadata": {},
   "source": [
    "Nous observons enfin que la variable cible comporte aussi des données manquantes."
   ]
  },
  {
   "cell_type": "code",
   "execution_count": 20,
   "metadata": {},
   "outputs": [
    {
     "name": "stdout",
     "output_type": "stream",
     "text": [
      "Suppression des données manquantes dans tout le jeu de données.\n",
      "\n",
      "\n",
      "Suppression colonnes `Nature de mutation`, 'Code commune',`code type local`, 'No plan'\n"
     ]
    }
   ],
   "source": [
    "print(\"Suppression des données manquantes dans tout le jeu de données.\")\n",
    "dfAppartMaisonRowsDrop = dfAppartMaisonDrop.dropna()\n",
    "print('\\n')\n",
    "print(\"Suppression colonnes `Nature de mutation`, 'Code commune',`code type local`, 'No plan'\")\n",
    "dfAppartMaisonRowsDrop = dfAppartMaisonRowsDrop.drop(['Nature mutation', 'Code commune','Code type local', 'No plan'], axis = 1)"
   ]
  },
  {
   "cell_type": "code",
   "execution_count": 21,
   "metadata": {},
   "outputs": [
    {
     "name": "stdout",
     "output_type": "stream",
     "text": [
      "Changement de type des variables 'code postal' et 'Nombre pièces principales'\n"
     ]
    }
   ],
   "source": [
    "print(\"Changement de type des variables 'code postal' et 'Nombre pièces principales'\")\n",
    "dfAppartMaisonRowsDrop[['Code postal', 'No disposition']] = dfAppartMaisonRowsDrop[[ 'Code postal', 'No disposition']].astype(str)\n",
    "dfAppartMaisonRowsDrop['Nombre pieces principales'] = dfAppartMaisonRowsDrop[ 'Nombre pieces principales'].astype(int)"
   ]
  },
  {
   "cell_type": "code",
   "execution_count": 22,
   "metadata": {},
   "outputs": [
    {
     "name": "stdout",
     "output_type": "stream",
     "text": [
      "Vérification que les observations comportant des valeurs manquantes ont bien été supprimées.\n"
     ]
    },
    {
     "data": {
      "text/plain": [
       "No disposition               0\n",
       "Date mutation                0\n",
       "Valeur fonciere              0\n",
       "Type de voie                 0\n",
       "Code voie                    0\n",
       "Voie                         0\n",
       "Code postal                  0\n",
       "Commune                      0\n",
       "Code departement             0\n",
       "Section                      0\n",
       "1er lot                      0\n",
       "Nombre de lots               0\n",
       "Type local                   0\n",
       "Surface reelle bati          0\n",
       "Nombre pieces principales    0\n",
       "dtype: int64"
      ]
     },
     "execution_count": 22,
     "metadata": {},
     "output_type": "execute_result"
    }
   ],
   "source": [
    "print(\"Vérification que les observations comportant des valeurs manquantes ont bien été supprimées.\")\n",
    "dfAppartMaisonRowsDrop.isnull().sum()"
   ]
  },
  {
   "cell_type": "code",
   "execution_count": 23,
   "metadata": {},
   "outputs": [
    {
     "name": "stdout",
     "output_type": "stream",
     "text": [
      "Transformation des informations de la colonne Date mutation\n",
      "Suppression de la colonne Date mutation\n",
      "Vérification des données\n",
      "<class 'pandas.core.frame.DataFrame'>\n",
      "Int64Index: 5396 entries, 1748 to 2527552\n",
      "Data columns (total 17 columns):\n",
      " #   Column                     Non-Null Count  Dtype  \n",
      "---  ------                     --------------  -----  \n",
      " 0   No disposition             5396 non-null   object \n",
      " 1   Valeur fonciere            5396 non-null   float64\n",
      " 2   Type de voie               5396 non-null   object \n",
      " 3   Code voie                  5396 non-null   object \n",
      " 4   Voie                       5396 non-null   object \n",
      " 5   Code postal                5396 non-null   object \n",
      " 6   Commune                    5396 non-null   object \n",
      " 7   Code departement           5396 non-null   object \n",
      " 8   Section                    5396 non-null   object \n",
      " 9   1er lot                    5396 non-null   object \n",
      " 10  Nombre de lots             5396 non-null   int64  \n",
      " 11  Type local                 5396 non-null   object \n",
      " 12  Surface reelle bati        5396 non-null   float64\n",
      " 13  Nombre pieces principales  5396 non-null   int64  \n",
      " 14  Jour                       5396 non-null   object \n",
      " 15  Mois                       5396 non-null   object \n",
      " 16  Annee                      5396 non-null   object \n",
      "dtypes: float64(2), int64(2), object(13)\n",
      "memory usage: 758.8+ KB\n"
     ]
    }
   ],
   "source": [
    "print(\"Transformation des informations de la colonne Date mutation\")\n",
    "dfAppartMaisonRowsDrop['Jour'] = dfAppartMaisonRowsDrop['Date mutation'].apply(lambda x: x[0:2])\n",
    "dfAppartMaisonRowsDrop['Mois'] = dfAppartMaisonRowsDrop['Date mutation'].apply(lambda x: x[3:5])\n",
    "dfAppartMaisonRowsDrop['Annee'] = dfAppartMaisonRowsDrop['Date mutation'].apply(lambda x: x[6:])\n",
    "print(\"Suppression de la colonne Date mutation\")\n",
    "dfAppartMaisonRowsDrop = dfAppartMaisonRowsDrop.drop('Date mutation', axis = 1)\n",
    "print(\"Vérification des données\")\n",
    "dfAppartMaisonRowsDrop.info()"
   ]
  },
  {
   "cell_type": "code",
   "execution_count": 24,
   "metadata": {},
   "outputs": [
    {
     "data": {
      "text/html": [
       "<div>\n",
       "<style scoped>\n",
       "    .dataframe tbody tr th:only-of-type {\n",
       "        vertical-align: middle;\n",
       "    }\n",
       "\n",
       "    .dataframe tbody tr th {\n",
       "        vertical-align: top;\n",
       "    }\n",
       "\n",
       "    .dataframe thead th {\n",
       "        text-align: right;\n",
       "    }\n",
       "</style>\n",
       "<table border=\"1\" class=\"dataframe\">\n",
       "  <thead>\n",
       "    <tr style=\"text-align: right;\">\n",
       "      <th></th>\n",
       "      <th>No disposition</th>\n",
       "      <th>Valeur fonciere</th>\n",
       "      <th>Type de voie</th>\n",
       "      <th>Code voie</th>\n",
       "      <th>Voie</th>\n",
       "      <th>Code postal</th>\n",
       "      <th>Commune</th>\n",
       "      <th>Code departement</th>\n",
       "      <th>Section</th>\n",
       "      <th>1er lot</th>\n",
       "      <th>Nombre de lots</th>\n",
       "      <th>Type local</th>\n",
       "      <th>Surface reelle bati</th>\n",
       "      <th>Nombre pieces principales</th>\n",
       "      <th>Jour</th>\n",
       "      <th>Mois</th>\n",
       "      <th>Annee</th>\n",
       "    </tr>\n",
       "  </thead>\n",
       "  <tbody>\n",
       "    <tr>\n",
       "      <th>1748</th>\n",
       "      <td>1</td>\n",
       "      <td>210000.0</td>\n",
       "      <td>RUE</td>\n",
       "      <td>2880</td>\n",
       "      <td>DU PALAIS</td>\n",
       "      <td>1000.0</td>\n",
       "      <td>BOURG-EN-BRESSE</td>\n",
       "      <td>1</td>\n",
       "      <td>AD</td>\n",
       "      <td>6</td>\n",
       "      <td>1</td>\n",
       "      <td>Appartement</td>\n",
       "      <td>63.0</td>\n",
       "      <td>2</td>\n",
       "      <td>08</td>\n",
       "      <td>03</td>\n",
       "      <td>2019</td>\n",
       "    </tr>\n",
       "    <tr>\n",
       "      <th>2046</th>\n",
       "      <td>1</td>\n",
       "      <td>129000.0</td>\n",
       "      <td>AV</td>\n",
       "      <td>0231</td>\n",
       "      <td>DES ANCIENS COMBATTANTS</td>\n",
       "      <td>1000.0</td>\n",
       "      <td>BOURG-EN-BRESSE</td>\n",
       "      <td>1</td>\n",
       "      <td>AE</td>\n",
       "      <td>11</td>\n",
       "      <td>1</td>\n",
       "      <td>Appartement</td>\n",
       "      <td>21.0</td>\n",
       "      <td>1</td>\n",
       "      <td>19</td>\n",
       "      <td>03</td>\n",
       "      <td>2019</td>\n",
       "    </tr>\n",
       "    <tr>\n",
       "      <th>5368</th>\n",
       "      <td>1</td>\n",
       "      <td>520000.0</td>\n",
       "      <td>ALL</td>\n",
       "      <td>0167</td>\n",
       "      <td>DES MELEZES</td>\n",
       "      <td>1630.0</td>\n",
       "      <td>ST-GENIS-POUILLY</td>\n",
       "      <td>1</td>\n",
       "      <td>BD</td>\n",
       "      <td>13</td>\n",
       "      <td>1</td>\n",
       "      <td>Appartement</td>\n",
       "      <td>133.0</td>\n",
       "      <td>4</td>\n",
       "      <td>10</td>\n",
       "      <td>01</td>\n",
       "      <td>2019</td>\n",
       "    </tr>\n",
       "    <tr>\n",
       "      <th>5759</th>\n",
       "      <td>1</td>\n",
       "      <td>501500.0</td>\n",
       "      <td>ALL</td>\n",
       "      <td>0002</td>\n",
       "      <td>DES ACACIAS</td>\n",
       "      <td>1630.0</td>\n",
       "      <td>ST-GENIS-POUILLY</td>\n",
       "      <td>1</td>\n",
       "      <td>BD</td>\n",
       "      <td>14</td>\n",
       "      <td>1</td>\n",
       "      <td>Appartement</td>\n",
       "      <td>133.0</td>\n",
       "      <td>4</td>\n",
       "      <td>15</td>\n",
       "      <td>01</td>\n",
       "      <td>2019</td>\n",
       "    </tr>\n",
       "    <tr>\n",
       "      <th>5981</th>\n",
       "      <td>1</td>\n",
       "      <td>198000.0</td>\n",
       "      <td>RUE</td>\n",
       "      <td>0033</td>\n",
       "      <td>DU BREU</td>\n",
       "      <td>1710.0</td>\n",
       "      <td>THOIRY</td>\n",
       "      <td>1</td>\n",
       "      <td>BN</td>\n",
       "      <td>70</td>\n",
       "      <td>2</td>\n",
       "      <td>Appartement</td>\n",
       "      <td>43.0</td>\n",
       "      <td>2</td>\n",
       "      <td>01</td>\n",
       "      <td>02</td>\n",
       "      <td>2019</td>\n",
       "    </tr>\n",
       "  </tbody>\n",
       "</table>\n",
       "</div>"
      ],
      "text/plain": [
       "     No disposition  Valeur fonciere Type de voie Code voie  \\\n",
       "1748              1         210000.0          RUE      2880   \n",
       "2046              1         129000.0           AV      0231   \n",
       "5368              1         520000.0          ALL      0167   \n",
       "5759              1         501500.0          ALL      0002   \n",
       "5981              1         198000.0          RUE      0033   \n",
       "\n",
       "                         Voie Code postal           Commune Code departement  \\\n",
       "1748                DU PALAIS      1000.0   BOURG-EN-BRESSE                1   \n",
       "2046  DES ANCIENS COMBATTANTS      1000.0   BOURG-EN-BRESSE                1   \n",
       "5368              DES MELEZES      1630.0  ST-GENIS-POUILLY                1   \n",
       "5759              DES ACACIAS      1630.0  ST-GENIS-POUILLY                1   \n",
       "5981                  DU BREU      1710.0            THOIRY                1   \n",
       "\n",
       "     Section 1er lot  Nombre de lots   Type local  Surface reelle bati  \\\n",
       "1748      AD       6               1  Appartement                 63.0   \n",
       "2046      AE      11               1  Appartement                 21.0   \n",
       "5368      BD      13               1  Appartement                133.0   \n",
       "5759      BD      14               1  Appartement                133.0   \n",
       "5981      BN      70               2  Appartement                 43.0   \n",
       "\n",
       "      Nombre pieces principales Jour Mois Annee  \n",
       "1748                          2   08   03  2019  \n",
       "2046                          1   19   03  2019  \n",
       "5368                          4   10   01  2019  \n",
       "5759                          4   15   01  2019  \n",
       "5981                          2   01   02  2019  "
      ]
     },
     "execution_count": 24,
     "metadata": {},
     "output_type": "execute_result"
    }
   ],
   "source": [
    "dfAppartMaisonRowsDrop.head()"
   ]
  },
  {
   "cell_type": "code",
   "execution_count": 35,
   "metadata": {},
   "outputs": [
    {
     "name": "stdout",
     "output_type": "stream",
     "text": [
      "Liste des valeurs distinctes dans la colonne Annee: \n",
      "['2019']\n",
      "Nombre de valeurs unique: \n",
      "1\n"
     ]
    }
   ],
   "source": [
    "print(\"Liste des valeurs distinctes dans la colonne Annee: \")\n",
    "print(dfAppartMaisonRowsDrop['Annee'].unique())\n",
    "print(\"Nombre de valeurs unique: \")\n",
    "print(dfAppartMaisonRowsDrop['Annee'].nunique())"
   ]
  },
  {
   "cell_type": "code",
   "execution_count": 36,
   "metadata": {},
   "outputs": [
    {
     "name": "stdout",
     "output_type": "stream",
     "text": [
      "Suppression de la colonne Annee\n",
      "Vérification des données\n",
      "<class 'pandas.core.frame.DataFrame'>\n",
      "Int64Index: 5396 entries, 1748 to 2527552\n",
      "Data columns (total 16 columns):\n",
      " #   Column                     Non-Null Count  Dtype  \n",
      "---  ------                     --------------  -----  \n",
      " 0   No disposition             5396 non-null   object \n",
      " 1   Valeur fonciere            5396 non-null   float64\n",
      " 2   Type de voie               5396 non-null   object \n",
      " 3   Code voie                  5396 non-null   object \n",
      " 4   Voie                       5396 non-null   object \n",
      " 5   Code postal                5396 non-null   object \n",
      " 6   Commune                    5396 non-null   object \n",
      " 7   Code departement           5396 non-null   object \n",
      " 8   Section                    5396 non-null   object \n",
      " 9   1er lot                    5396 non-null   object \n",
      " 10  Nombre de lots             5396 non-null   int64  \n",
      " 11  Type local                 5396 non-null   object \n",
      " 12  Surface reelle bati        5396 non-null   float64\n",
      " 13  Nombre pieces principales  5396 non-null   int64  \n",
      " 14  Jour                       5396 non-null   object \n",
      " 15  Mois                       5396 non-null   object \n",
      "dtypes: float64(2), int64(2), object(12)\n",
      "memory usage: 716.7+ KB\n"
     ]
    }
   ],
   "source": [
    "print('Suppression de la colonne Annee')\n",
    "dfAppartMaisonRowsDrop = dfAppartMaisonRowsDrop.drop('Annee', axis = 1)\n",
    "print(\"Vérification des données\")\n",
    "dfAppartMaisonRowsDrop.info()"
   ]
  },
  {
   "cell_type": "markdown",
   "metadata": {},
   "source": [
    "### <font color=blue>Analyse exploratoire du jeu de données issu de cette transformation</font>"
   ]
  },
  {
   "cell_type": "markdown",
   "metadata": {},
   "source": [
    "#### <font color=blue>Visualisation de certaines variables</font>"
   ]
  },
  {
   "cell_type": "code",
   "execution_count": 37,
   "metadata": {},
   "outputs": [
    {
     "name": "stdout",
     "output_type": "stream",
     "text": [
      "Mise à jour des informations sur les types des données\n",
      "<class 'pandas.core.frame.DataFrame'>\n",
      "Int64Index: 5396 entries, 1748 to 2527552\n",
      "Data columns (total 16 columns):\n",
      " #   Column                     Non-Null Count  Dtype  \n",
      "---  ------                     --------------  -----  \n",
      " 0   No disposition             5396 non-null   object \n",
      " 1   Valeur fonciere            5396 non-null   float64\n",
      " 2   Type de voie               5396 non-null   object \n",
      " 3   Code voie                  5396 non-null   object \n",
      " 4   Voie                       5396 non-null   object \n",
      " 5   Code postal                5396 non-null   object \n",
      " 6   Commune                    5396 non-null   object \n",
      " 7   Code departement           5396 non-null   object \n",
      " 8   Section                    5396 non-null   object \n",
      " 9   1er lot                    5396 non-null   object \n",
      " 10  Nombre de lots             5396 non-null   int64  \n",
      " 11  Type local                 5396 non-null   object \n",
      " 12  Surface reelle bati        5396 non-null   float64\n",
      " 13  Nombre pieces principales  5396 non-null   int64  \n",
      " 14  Jour                       5396 non-null   object \n",
      " 15  Mois                       5396 non-null   object \n",
      "dtypes: float64(2), int64(2), object(12)\n",
      "memory usage: 716.7+ KB\n"
     ]
    }
   ],
   "source": [
    "print(\"Mise à jour des informations sur les types des données\")\n",
    "dfAppartMaisonRowsDrop.info()"
   ]
  },
  {
   "cell_type": "code",
   "execution_count": 18,
   "metadata": {},
   "outputs": [
    {
     "data": {
      "image/png": "[encoded data removed]",
      "text/plain": [
       "<Figure size 432x288 with 4 Axes>"
      ]
     },
     "metadata": {
      "needs_background": "light"
     },
     "output_type": "display_data"
    }
   ],
   "source": [
    "dfAppartMaisonRowsDrop.hist()\n",
    "plt.show()"
   ]
  },
  {
   "cell_type": "code",
   "execution_count": 19,
   "metadata": {},
   "outputs": [
    {
     "data": {
      "image/png": "[encoded data removed]",
      "text/plain": [
       "<Figure size 432x288 with 1 Axes>"
      ]
     },
     "metadata": {
      "needs_background": "light"
     },
     "output_type": "display_data"
    }
   ],
   "source": [
    "dfAppartMaisonRowsDrop['Valeur fonciere'].hist()\n",
    "plt.show()"
   ]
  },
  {
   "cell_type": "code",
   "execution_count": 21,
   "metadata": {},
   "outputs": [
    {
     "data": {
      "image/png": "[encoded data removed]",
      "text/plain": [
       "<Figure size 432x288 with 1 Axes>"
      ]
     },
     "metadata": {
      "needs_background": "light"
     },
     "output_type": "display_data"
    }
   ],
   "source": [
    "dfAppartMaisonRowsDrop[['Valeur fonciere']].boxplot()\n",
    "plt.show()"
   ]
  },
  {
   "cell_type": "code",
   "execution_count": 22,
   "metadata": {},
   "outputs": [
    {
     "data": {
      "image/png": "[encoded data removed]",
      "text/plain": [
       "<Figure size 432x288 with 1 Axes>"
      ]
     },
     "metadata": {
      "needs_background": "light"
     },
     "output_type": "display_data"
    }
   ],
   "source": [
    "dfAppartMaisonRowsDrop[['Nombre de lots']].boxplot()\n",
    "plt.show()"
   ]
  },
  {
   "cell_type": "code",
   "execution_count": 23,
   "metadata": {},
   "outputs": [
    {
     "data": {
      "image/png": "[encoded data removed]",
      "text/plain": [
       "<Figure size 432x288 with 1 Axes>"
      ]
     },
     "metadata": {
      "needs_background": "light"
     },
     "output_type": "display_data"
    }
   ],
   "source": [
    "dfAppartMaisonRowsDrop[['Surface reelle bati']].boxplot()\n",
    "plt.show()"
   ]
  },
  {
   "cell_type": "code",
   "execution_count": 24,
   "metadata": {},
   "outputs": [
    {
     "data": {
      "image/png": "[encoded data removed]",
      "text/plain": [
       "<Figure size 432x288 with 1 Axes>"
      ]
     },
     "metadata": {
      "needs_background": "light"
     },
     "output_type": "display_data"
    }
   ],
   "source": [
    "dfAppartMaisonRowsDrop[['Nombre pieces principales']].boxplot()\n",
    "plt.show()"
   ]
  },
  {
   "cell_type": "markdown",
   "metadata": {},
   "source": [
    "Il apparait, au regard, des graphiques précédant qu'il y a de nombreux outliers et que les données sont très \"écrasées\"."
   ]
  },
  {
   "cell_type": "markdown",
   "metadata": {},
   "source": [
    "#### <font color=blue>Statistque descriptive</font>"
   ]
  },
  {
   "cell_type": "code",
   "execution_count": 25,
   "metadata": {},
   "outputs": [
    {
     "data": {
      "text/html": [
       "<div>\n",
       "<style scoped>\n",
       "    .dataframe tbody tr th:only-of-type {\n",
       "        vertical-align: middle;\n",
       "    }\n",
       "\n",
       "    .dataframe tbody tr th {\n",
       "        vertical-align: top;\n",
       "    }\n",
       "\n",
       "    .dataframe thead th {\n",
       "        text-align: right;\n",
       "    }\n",
       "</style>\n",
       "<table border=\"1\" class=\"dataframe\">\n",
       "  <thead>\n",
       "    <tr style=\"text-align: right;\">\n",
       "      <th></th>\n",
       "      <th>Valeur fonciere</th>\n",
       "      <th>Nombre de lots</th>\n",
       "      <th>Surface reelle bati</th>\n",
       "      <th>Nombre pieces principales</th>\n",
       "    </tr>\n",
       "  </thead>\n",
       "  <tbody>\n",
       "    <tr>\n",
       "      <th>count</th>\n",
       "      <td>5.396000e+03</td>\n",
       "      <td>5396.000000</td>\n",
       "      <td>5396.000000</td>\n",
       "      <td>5396.000000</td>\n",
       "    </tr>\n",
       "    <tr>\n",
       "      <th>mean</th>\n",
       "      <td>3.099644e+05</td>\n",
       "      <td>1.159007</td>\n",
       "      <td>65.807821</td>\n",
       "      <td>2.841549</td>\n",
       "    </tr>\n",
       "    <tr>\n",
       "      <th>std</th>\n",
       "      <td>4.604522e+05</td>\n",
       "      <td>0.789595</td>\n",
       "      <td>97.586265</td>\n",
       "      <td>0.945358</td>\n",
       "    </tr>\n",
       "    <tr>\n",
       "      <th>min</th>\n",
       "      <td>1.000000e+00</td>\n",
       "      <td>1.000000</td>\n",
       "      <td>11.000000</td>\n",
       "      <td>1.000000</td>\n",
       "    </tr>\n",
       "    <tr>\n",
       "      <th>25%</th>\n",
       "      <td>1.720000e+05</td>\n",
       "      <td>1.000000</td>\n",
       "      <td>44.000000</td>\n",
       "      <td>2.000000</td>\n",
       "    </tr>\n",
       "    <tr>\n",
       "      <th>50%</th>\n",
       "      <td>2.250000e+05</td>\n",
       "      <td>1.000000</td>\n",
       "      <td>61.000000</td>\n",
       "      <td>3.000000</td>\n",
       "    </tr>\n",
       "    <tr>\n",
       "      <th>75%</th>\n",
       "      <td>3.000000e+05</td>\n",
       "      <td>1.000000</td>\n",
       "      <td>72.250000</td>\n",
       "      <td>3.000000</td>\n",
       "    </tr>\n",
       "    <tr>\n",
       "      <th>max</th>\n",
       "      <td>6.026894e+06</td>\n",
       "      <td>49.000000</td>\n",
       "      <td>2426.000000</td>\n",
       "      <td>13.000000</td>\n",
       "    </tr>\n",
       "  </tbody>\n",
       "</table>\n",
       "</div>"
      ],
      "text/plain": [
       "       Valeur fonciere  Nombre de lots  Surface reelle bati  \\\n",
       "count     5.396000e+03     5396.000000          5396.000000   \n",
       "mean      3.099644e+05        1.159007            65.807821   \n",
       "std       4.604522e+05        0.789595            97.586265   \n",
       "min       1.000000e+00        1.000000            11.000000   \n",
       "25%       1.720000e+05        1.000000            44.000000   \n",
       "50%       2.250000e+05        1.000000            61.000000   \n",
       "75%       3.000000e+05        1.000000            72.250000   \n",
       "max       6.026894e+06       49.000000          2426.000000   \n",
       "\n",
       "       Nombre pieces principales  \n",
       "count                5396.000000  \n",
       "mean                    2.841549  \n",
       "std                     0.945358  \n",
       "min                     1.000000  \n",
       "25%                     2.000000  \n",
       "50%                     3.000000  \n",
       "75%                     3.000000  \n",
       "max                    13.000000  "
      ]
     },
     "execution_count": 25,
     "metadata": {},
     "output_type": "execute_result"
    }
   ],
   "source": [
    "dfAppartMaisonRowsDrop.describe()"
   ]
  },
  {
   "cell_type": "markdown",
   "metadata": {},
   "source": [
    "### <font color=green>Détection des outliers</font>"
   ]
  },
  {
   "cell_type": "code",
   "execution_count": 29,
   "metadata": {},
   "outputs": [],
   "source": [
    "def outliersVF(data):\n",
    "    '''Cette fonction permet de détecter les outliers:\n",
    "    en entrée nous avons le jeu de données\n",
    "    IQR représente l'intervale interquartile calculé par la différence entre le 1er et le 3ème quartile\n",
    "    en sortie on a les outliers inférieurs (bas) et supérieurs (haut)\n",
    "    '''\n",
    "    IQR = data.describe()['Valeur fonciere']['75%'] - data.describe()['Valeur fonciere']['25%']\n",
    "    bas = data.describe()['Valeur fonciere']['25%'] -1.5*IQR\n",
    "    haut = data.describe()['Valeur fonciere']['75%'] + 1.5*IQR\n",
    "    return bas, haut"
   ]
  },
  {
   "cell_type": "code",
   "execution_count": 30,
   "metadata": {},
   "outputs": [
    {
     "data": {
      "text/plain": [
       "No disposition               369\n",
       "Valeur fonciere              369\n",
       "Type de voie                 369\n",
       "Code voie                    369\n",
       "Voie                         369\n",
       "Code postal                  369\n",
       "Commune                      369\n",
       "Code departement             369\n",
       "Section                      369\n",
       "1er lot                      369\n",
       "Nombre de lots               369\n",
       "Type local                   369\n",
       "Surface reelle bati          369\n",
       "Nombre pieces principales    369\n",
       "Jour                         369\n",
       "Mois                         369\n",
       "Annee                        369\n",
       "dtype: int64"
      ]
     },
     "execution_count": 30,
     "metadata": {},
     "output_type": "execute_result"
    }
   ],
   "source": [
    "outliersSup = outliersVF(dfAppartMaisonRowsDrop)\n",
    "dfAppartMaisonRowsDrop[dfAppartMaisonRowsDrop['Valeur fonciere'] > outliersSup[1]].count()"
   ]
  },
  {
   "cell_type": "code",
   "execution_count": 33,
   "metadata": {},
   "outputs": [],
   "source": [
    "'''\n",
    "Cette partie permet de supprimer, si besoin les outliers à partir d'un certain seuil\n",
    "'''\n",
    "'''\n",
    "Suppresssion des observations ayant des outliers dans la colonne Valeur foncière\n",
    "indexOutliers = dfAppartMaisonRowsDrop[dfAppartMaisonRowsDrop['Valeur fonciere'] > outliersSup[1]].index\n",
    "dfAppartMaisonRowsDrop.drop(indexOutliers, inplace = True)\n",
    "\n",
    "print('Verification de la suppression des outliers.')'\n",
    "dfAppartMaisonRowsDrop[dfAppartMaisonRowsDrop['Valeur fonciere'] > outliersSup[1]].count()\n",
    "'''"
   ]
  },
  {
   "cell_type": "markdown",
   "metadata": {},
   "source": [
    "Les graphes, ci-après, représente les données numériques après suppression des outliers,on observe bien la différence par rapport au cas ou l'on conserve ces outliers"
   ]
  },
  {
   "cell_type": "code",
   "execution_count": 35,
   "metadata": {},
   "outputs": [
    {
     "data": {
      "image/png": "[encoded data removed]",
      "text/plain": [
       "<Figure size 432x288 with 1 Axes>"
      ]
     },
     "metadata": {
      "needs_background": "light"
     },
     "output_type": "display_data"
    }
   ],
   "source": [
    "dfAppartMaisonRowsDrop[['Valeur fonciere']].boxplot()\n",
    "plt.show()"
   ]
  },
  {
   "cell_type": "code",
   "execution_count": 36,
   "metadata": {},
   "outputs": [
    {
     "data": {
      "image/png": "[encoded data removed]",
      "text/plain": [
       "<Figure size 432x288 with 1 Axes>"
      ]
     },
     "metadata": {
      "needs_background": "light"
     },
     "output_type": "display_data"
    }
   ],
   "source": [
    "dfAppartMaisonRowsDrop[['Nombre pieces principales']].boxplot()\n",
    "plt.show()"
   ]
  },
  {
   "cell_type": "code",
   "execution_count": 37,
   "metadata": {},
   "outputs": [
    {
     "data": {
      "image/png": "[encoded data removed]",
      "text/plain": [
       "<Figure size 432x288 with 1 Axes>"
      ]
     },
     "metadata": {
      "needs_background": "light"
     },
     "output_type": "display_data"
    }
   ],
   "source": [
    "dfAppartMaisonRowsDrop[['Surface reelle bati']].boxplot()\n",
    "plt.show()"
   ]
  },
  {
   "cell_type": "markdown",
   "metadata": {},
   "source": [
    "### <font color=green>Séparation des variables en deux groupes</font>"
   ]
  },
  {
   "cell_type": "code",
   "execution_count": 38,
   "metadata": {},
   "outputs": [
    {
     "name": "stdout",
     "output_type": "stream",
     "text": [
      "Information sur le type et la taille du jeu de données avant séparation.\n",
      "<class 'pandas.core.frame.DataFrame'>\n",
      "Int64Index: 5396 entries, 1748 to 2527552\n",
      "Data columns (total 16 columns):\n",
      " #   Column                     Non-Null Count  Dtype  \n",
      "---  ------                     --------------  -----  \n",
      " 0   No disposition             5396 non-null   object \n",
      " 1   Valeur fonciere            5396 non-null   float64\n",
      " 2   Type de voie               5396 non-null   object \n",
      " 3   Code voie                  5396 non-null   object \n",
      " 4   Voie                       5396 non-null   object \n",
      " 5   Code postal                5396 non-null   object \n",
      " 6   Commune                    5396 non-null   object \n",
      " 7   Code departement           5396 non-null   object \n",
      " 8   Section                    5396 non-null   object \n",
      " 9   1er lot                    5396 non-null   object \n",
      " 10  Nombre de lots             5396 non-null   int64  \n",
      " 11  Type local                 5396 non-null   object \n",
      " 12  Surface reelle bati        5396 non-null   float64\n",
      " 13  Nombre pieces principales  5396 non-null   int64  \n",
      " 14  Jour                       5396 non-null   object \n",
      " 15  Mois                       5396 non-null   object \n",
      "dtypes: float64(2), int64(2), object(12)\n",
      "memory usage: 716.7+ KB\n"
     ]
    }
   ],
   "source": [
    "print(\"Information sur le type et la taille du jeu de données avant séparation.\")\n",
    "dfAppartMaisonRowsDrop.info()"
   ]
  },
  {
   "cell_type": "markdown",
   "metadata": {},
   "source": [
    "### <font color=black>Variable qualitative</font>"
   ]
  },
  {
   "cell_type": "code",
   "execution_count": 39,
   "metadata": {},
   "outputs": [
    {
     "name": "stdout",
     "output_type": "stream",
     "text": [
      "DataFrame des variables qualitatives.\n"
     ]
    }
   ],
   "source": [
    "print(\"DataFrame des variables qualitatives.\")\n",
    "dfAppartMaisonRowsDropQualitatif = dfAppartMaisonRowsDrop.select_dtypes(include ='object')"
   ]
  },
  {
   "cell_type": "code",
   "execution_count": 40,
   "metadata": {},
   "outputs": [
    {
     "name": "stdout",
     "output_type": "stream",
     "text": [
      "<class 'pandas.core.frame.DataFrame'>\n",
      "Int64Index: 5396 entries, 1748 to 2527552\n",
      "Data columns (total 12 columns):\n",
      " #   Column            Non-Null Count  Dtype \n",
      "---  ------            --------------  ----- \n",
      " 0   No disposition    5396 non-null   object\n",
      " 1   Type de voie      5396 non-null   object\n",
      " 2   Code voie         5396 non-null   object\n",
      " 3   Voie              5396 non-null   object\n",
      " 4   Code postal       5396 non-null   object\n",
      " 5   Commune           5396 non-null   object\n",
      " 6   Code departement  5396 non-null   object\n",
      " 7   Section           5396 non-null   object\n",
      " 8   1er lot           5396 non-null   object\n",
      " 9   Type local        5396 non-null   object\n",
      " 10  Jour              5396 non-null   object\n",
      " 11  Mois              5396 non-null   object\n",
      "dtypes: object(12)\n",
      "memory usage: 548.0+ KB\n"
     ]
    }
   ],
   "source": [
    "dfAppartMaisonRowsDropQualitatif.info()"
   ]
  },
  {
   "cell_type": "code",
   "execution_count": 41,
   "metadata": {},
   "outputs": [
    {
     "name": "stdout",
     "output_type": "stream",
     "text": [
      "Statistique descriptive\n"
     ]
    },
    {
     "data": {
      "text/html": [
       "<div>\n",
       "<style scoped>\n",
       "    .dataframe tbody tr th:only-of-type {\n",
       "        vertical-align: middle;\n",
       "    }\n",
       "\n",
       "    .dataframe tbody tr th {\n",
       "        vertical-align: top;\n",
       "    }\n",
       "\n",
       "    .dataframe thead th {\n",
       "        text-align: right;\n",
       "    }\n",
       "</style>\n",
       "<table border=\"1\" class=\"dataframe\">\n",
       "  <thead>\n",
       "    <tr style=\"text-align: right;\">\n",
       "      <th></th>\n",
       "      <th>No disposition</th>\n",
       "      <th>Type de voie</th>\n",
       "      <th>Code voie</th>\n",
       "      <th>Voie</th>\n",
       "      <th>Code postal</th>\n",
       "      <th>Commune</th>\n",
       "      <th>Code departement</th>\n",
       "      <th>Section</th>\n",
       "      <th>1er lot</th>\n",
       "      <th>Type local</th>\n",
       "      <th>Jour</th>\n",
       "      <th>Mois</th>\n",
       "    </tr>\n",
       "  </thead>\n",
       "  <tbody>\n",
       "    <tr>\n",
       "      <th>count</th>\n",
       "      <td>5396</td>\n",
       "      <td>5396</td>\n",
       "      <td>5396</td>\n",
       "      <td>5396</td>\n",
       "      <td>5396</td>\n",
       "      <td>5396</td>\n",
       "      <td>5396</td>\n",
       "      <td>5396</td>\n",
       "      <td>5396.0</td>\n",
       "      <td>5396</td>\n",
       "      <td>5396</td>\n",
       "      <td>5396</td>\n",
       "    </tr>\n",
       "    <tr>\n",
       "      <th>unique</th>\n",
       "      <td>2</td>\n",
       "      <td>33</td>\n",
       "      <td>1127</td>\n",
       "      <td>1475</td>\n",
       "      <td>737</td>\n",
       "      <td>743</td>\n",
       "      <td>78</td>\n",
       "      <td>237</td>\n",
       "      <td>800.0</td>\n",
       "      <td>2</td>\n",
       "      <td>31</td>\n",
       "      <td>12</td>\n",
       "    </tr>\n",
       "    <tr>\n",
       "      <th>top</th>\n",
       "      <td>1</td>\n",
       "      <td>RUE</td>\n",
       "      <td>0620</td>\n",
       "      <td>JEAN JAURES</td>\n",
       "      <td>31200.0</td>\n",
       "      <td>TOULOUSE</td>\n",
       "      <td>31</td>\n",
       "      <td>AK</td>\n",
       "      <td>1.0</td>\n",
       "      <td>Appartement</td>\n",
       "      <td>28</td>\n",
       "      <td>01</td>\n",
       "    </tr>\n",
       "    <tr>\n",
       "      <th>freq</th>\n",
       "      <td>5387</td>\n",
       "      <td>2941</td>\n",
       "      <td>53</td>\n",
       "      <td>51</td>\n",
       "      <td>111</td>\n",
       "      <td>236</td>\n",
       "      <td>426</td>\n",
       "      <td>250</td>\n",
       "      <td>87.0</td>\n",
       "      <td>5247</td>\n",
       "      <td>264</td>\n",
       "      <td>776</td>\n",
       "    </tr>\n",
       "  </tbody>\n",
       "</table>\n",
       "</div>"
      ],
      "text/plain": [
       "       No disposition Type de voie Code voie         Voie Code postal  \\\n",
       "count            5396         5396      5396         5396        5396   \n",
       "unique              2           33      1127         1475         737   \n",
       "top                 1          RUE      0620  JEAN JAURES     31200.0   \n",
       "freq             5387         2941        53           51         111   \n",
       "\n",
       "         Commune  Code departement Section  1er lot   Type local  Jour  Mois  \n",
       "count       5396              5396    5396   5396.0         5396  5396  5396  \n",
       "unique       743                78     237    800.0            2    31    12  \n",
       "top     TOULOUSE                31      AK      1.0  Appartement    28    01  \n",
       "freq         236               426     250     87.0         5247   264   776  "
      ]
     },
     "execution_count": 41,
     "metadata": {},
     "output_type": "execute_result"
    }
   ],
   "source": [
    "print(\"Statistique descriptive\")\n",
    "dfAppartMaisonRowsDropQualitatif.describe()"
   ]
  },
  {
   "cell_type": "code",
   "execution_count": 42,
   "metadata": {},
   "outputs": [
    {
     "name": "stdout",
     "output_type": "stream",
     "text": [
      "Changement de l'encodage pour construction du modèle.\n"
     ]
    }
   ],
   "source": [
    "print(\"Changement de l'encodage pour construction du modèle.\")\n",
    "dummy_dfAppartMaisonRowsDropQualitatif = pd.get_dummies(dfAppartMaisonRowsDropQualitatif)"
   ]
  },
  {
   "cell_type": "code",
   "execution_count": 43,
   "metadata": {},
   "outputs": [
    {
     "name": "stdout",
     "output_type": "stream",
     "text": [
      "Information sur ces variables\n",
      "<class 'pandas.core.frame.DataFrame'>\n",
      "Int64Index: 5396 entries, 1748 to 2527552\n",
      "Columns: 5277 entries, No disposition_1 to Mois_12\n",
      "dtypes: uint8(5277)\n",
      "memory usage: 27.2 MB\n",
      "None\n"
     ]
    }
   ],
   "source": [
    "print(\"Information sur ces variables\")\n",
    "print(dummy_dfAppartMaisonRowsDropQualitatif.info())"
   ]
  },
  {
   "cell_type": "code",
   "execution_count": 44,
   "metadata": {},
   "outputs": [
    {
     "data": {
      "text/html": [
       "<div>\n",
       "<style scoped>\n",
       "    .dataframe tbody tr th:only-of-type {\n",
       "        vertical-align: middle;\n",
       "    }\n",
       "\n",
       "    .dataframe tbody tr th {\n",
       "        vertical-align: top;\n",
       "    }\n",
       "\n",
       "    .dataframe thead th {\n",
       "        text-align: right;\n",
       "    }\n",
       "</style>\n",
       "<table border=\"1\" class=\"dataframe\">\n",
       "  <thead>\n",
       "    <tr style=\"text-align: right;\">\n",
       "      <th></th>\n",
       "      <th>No disposition_1</th>\n",
       "      <th>No disposition_2</th>\n",
       "      <th>Type de voie_ACH</th>\n",
       "      <th>Type de voie_ALL</th>\n",
       "      <th>Type de voie_AV</th>\n",
       "      <th>Type de voie_BD</th>\n",
       "      <th>Type de voie_CHE</th>\n",
       "      <th>Type de voie_CHEM</th>\n",
       "      <th>Type de voie_CITE</th>\n",
       "      <th>Type de voie_COR</th>\n",
       "      <th>...</th>\n",
       "      <th>Mois_03</th>\n",
       "      <th>Mois_04</th>\n",
       "      <th>Mois_05</th>\n",
       "      <th>Mois_06</th>\n",
       "      <th>Mois_07</th>\n",
       "      <th>Mois_08</th>\n",
       "      <th>Mois_09</th>\n",
       "      <th>Mois_10</th>\n",
       "      <th>Mois_11</th>\n",
       "      <th>Mois_12</th>\n",
       "    </tr>\n",
       "  </thead>\n",
       "  <tbody>\n",
       "    <tr>\n",
       "      <th>19713</th>\n",
       "      <td>1</td>\n",
       "      <td>0</td>\n",
       "      <td>0</td>\n",
       "      <td>0</td>\n",
       "      <td>0</td>\n",
       "      <td>0</td>\n",
       "      <td>0</td>\n",
       "      <td>0</td>\n",
       "      <td>0</td>\n",
       "      <td>0</td>\n",
       "      <td>...</td>\n",
       "      <td>0</td>\n",
       "      <td>0</td>\n",
       "      <td>0</td>\n",
       "      <td>0</td>\n",
       "      <td>0</td>\n",
       "      <td>0</td>\n",
       "      <td>0</td>\n",
       "      <td>1</td>\n",
       "      <td>0</td>\n",
       "      <td>0</td>\n",
       "    </tr>\n",
       "    <tr>\n",
       "      <th>19869</th>\n",
       "      <td>1</td>\n",
       "      <td>0</td>\n",
       "      <td>0</td>\n",
       "      <td>0</td>\n",
       "      <td>0</td>\n",
       "      <td>0</td>\n",
       "      <td>1</td>\n",
       "      <td>0</td>\n",
       "      <td>0</td>\n",
       "      <td>0</td>\n",
       "      <td>...</td>\n",
       "      <td>0</td>\n",
       "      <td>0</td>\n",
       "      <td>1</td>\n",
       "      <td>0</td>\n",
       "      <td>0</td>\n",
       "      <td>0</td>\n",
       "      <td>0</td>\n",
       "      <td>0</td>\n",
       "      <td>0</td>\n",
       "      <td>0</td>\n",
       "    </tr>\n",
       "  </tbody>\n",
       "</table>\n",
       "<p>2 rows × 5277 columns</p>\n",
       "</div>"
      ],
      "text/plain": [
       "       No disposition_1  No disposition_2  Type de voie_ACH  Type de voie_ALL  \\\n",
       "19713                 1                 0                 0                 0   \n",
       "19869                 1                 0                 0                 0   \n",
       "\n",
       "       Type de voie_AV  Type de voie_BD  Type de voie_CHE  Type de voie_CHEM  \\\n",
       "19713                0                0                 0                  0   \n",
       "19869                0                0                 1                  0   \n",
       "\n",
       "       Type de voie_CITE  Type de voie_COR  ...  Mois_03  Mois_04  Mois_05  \\\n",
       "19713                  0                 0  ...        0        0        0   \n",
       "19869                  0                 0  ...        0        0        1   \n",
       "\n",
       "       Mois_06  Mois_07  Mois_08  Mois_09  Mois_10  Mois_11  Mois_12  \n",
       "19713        0        0        0        0        1        0        0  \n",
       "19869        0        0        0        0        0        0        0  \n",
       "\n",
       "[2 rows x 5277 columns]"
      ]
     },
     "execution_count": 44,
     "metadata": {},
     "output_type": "execute_result"
    }
   ],
   "source": [
    "dummy_dfAppartMaisonRowsDropQualitatif[45:47]"
   ]
  },
  {
   "cell_type": "markdown",
   "metadata": {},
   "source": [
    "### <font color=black>Variable quantitative</font>"
   ]
  },
  {
   "cell_type": "code",
   "execution_count": 45,
   "metadata": {},
   "outputs": [
    {
     "name": "stdout",
     "output_type": "stream",
     "text": [
      "DataFrame des variables quantitatives.\n"
     ]
    }
   ],
   "source": [
    "print(\"DataFrame des variables quantitatives.\")\n",
    "dfAppartMaisonRowsDropQuantitatif = dfAppartMaisonRowsDrop.select_dtypes(include ='number')"
   ]
  },
  {
   "cell_type": "code",
   "execution_count": 46,
   "metadata": {},
   "outputs": [
    {
     "name": "stdout",
     "output_type": "stream",
     "text": [
      "<class 'pandas.core.frame.DataFrame'>\n",
      "Int64Index: 5396 entries, 1748 to 2527552\n",
      "Data columns (total 4 columns):\n",
      " #   Column                     Non-Null Count  Dtype  \n",
      "---  ------                     --------------  -----  \n",
      " 0   Valeur fonciere            5396 non-null   float64\n",
      " 1   Nombre de lots             5396 non-null   int64  \n",
      " 2   Surface reelle bati        5396 non-null   float64\n",
      " 3   Nombre pieces principales  5396 non-null   int64  \n",
      "dtypes: float64(2), int64(2)\n",
      "memory usage: 210.8 KB\n"
     ]
    }
   ],
   "source": [
    "dfAppartMaisonRowsDropQuantitatif.info()"
   ]
  },
  {
   "cell_type": "code",
   "execution_count": 47,
   "metadata": {},
   "outputs": [
    {
     "data": {
      "text/html": [
       "<div>\n",
       "<style scoped>\n",
       "    .dataframe tbody tr th:only-of-type {\n",
       "        vertical-align: middle;\n",
       "    }\n",
       "\n",
       "    .dataframe tbody tr th {\n",
       "        vertical-align: top;\n",
       "    }\n",
       "\n",
       "    .dataframe thead th {\n",
       "        text-align: right;\n",
       "    }\n",
       "</style>\n",
       "<table border=\"1\" class=\"dataframe\">\n",
       "  <thead>\n",
       "    <tr style=\"text-align: right;\">\n",
       "      <th></th>\n",
       "      <th>Valeur fonciere</th>\n",
       "      <th>Nombre de lots</th>\n",
       "      <th>Surface reelle bati</th>\n",
       "      <th>Nombre pieces principales</th>\n",
       "    </tr>\n",
       "  </thead>\n",
       "  <tbody>\n",
       "    <tr>\n",
       "      <th>1748</th>\n",
       "      <td>210000.0</td>\n",
       "      <td>1</td>\n",
       "      <td>63.0</td>\n",
       "      <td>2</td>\n",
       "    </tr>\n",
       "    <tr>\n",
       "      <th>2046</th>\n",
       "      <td>129000.0</td>\n",
       "      <td>1</td>\n",
       "      <td>21.0</td>\n",
       "      <td>1</td>\n",
       "    </tr>\n",
       "    <tr>\n",
       "      <th>5368</th>\n",
       "      <td>520000.0</td>\n",
       "      <td>1</td>\n",
       "      <td>133.0</td>\n",
       "      <td>4</td>\n",
       "    </tr>\n",
       "    <tr>\n",
       "      <th>5759</th>\n",
       "      <td>501500.0</td>\n",
       "      <td>1</td>\n",
       "      <td>133.0</td>\n",
       "      <td>4</td>\n",
       "    </tr>\n",
       "    <tr>\n",
       "      <th>5981</th>\n",
       "      <td>198000.0</td>\n",
       "      <td>2</td>\n",
       "      <td>43.0</td>\n",
       "      <td>2</td>\n",
       "    </tr>\n",
       "  </tbody>\n",
       "</table>\n",
       "</div>"
      ],
      "text/plain": [
       "      Valeur fonciere  Nombre de lots  Surface reelle bati  \\\n",
       "1748         210000.0               1                 63.0   \n",
       "2046         129000.0               1                 21.0   \n",
       "5368         520000.0               1                133.0   \n",
       "5759         501500.0               1                133.0   \n",
       "5981         198000.0               2                 43.0   \n",
       "\n",
       "      Nombre pieces principales  \n",
       "1748                          2  \n",
       "2046                          1  \n",
       "5368                          4  \n",
       "5759                          4  \n",
       "5981                          2  "
      ]
     },
     "execution_count": 47,
     "metadata": {},
     "output_type": "execute_result"
    }
   ],
   "source": [
    "dfAppartMaisonRowsDropQuantitatif.head()"
   ]
  },
  {
   "cell_type": "code",
   "execution_count": 48,
   "metadata": {},
   "outputs": [
    {
     "name": "stdout",
     "output_type": "stream",
     "text": [
      "Statistique descriptive\n"
     ]
    },
    {
     "data": {
      "text/html": [
       "<div>\n",
       "<style scoped>\n",
       "    .dataframe tbody tr th:only-of-type {\n",
       "        vertical-align: middle;\n",
       "    }\n",
       "\n",
       "    .dataframe tbody tr th {\n",
       "        vertical-align: top;\n",
       "    }\n",
       "\n",
       "    .dataframe thead th {\n",
       "        text-align: right;\n",
       "    }\n",
       "</style>\n",
       "<table border=\"1\" class=\"dataframe\">\n",
       "  <thead>\n",
       "    <tr style=\"text-align: right;\">\n",
       "      <th></th>\n",
       "      <th>Valeur fonciere</th>\n",
       "      <th>Nombre de lots</th>\n",
       "      <th>Surface reelle bati</th>\n",
       "      <th>Nombre pieces principales</th>\n",
       "    </tr>\n",
       "  </thead>\n",
       "  <tbody>\n",
       "    <tr>\n",
       "      <th>count</th>\n",
       "      <td>5.396000e+03</td>\n",
       "      <td>5396.000000</td>\n",
       "      <td>5396.000000</td>\n",
       "      <td>5396.000000</td>\n",
       "    </tr>\n",
       "    <tr>\n",
       "      <th>mean</th>\n",
       "      <td>3.099644e+05</td>\n",
       "      <td>1.159007</td>\n",
       "      <td>65.807821</td>\n",
       "      <td>2.841549</td>\n",
       "    </tr>\n",
       "    <tr>\n",
       "      <th>std</th>\n",
       "      <td>4.604522e+05</td>\n",
       "      <td>0.789595</td>\n",
       "      <td>97.586265</td>\n",
       "      <td>0.945358</td>\n",
       "    </tr>\n",
       "    <tr>\n",
       "      <th>min</th>\n",
       "      <td>1.000000e+00</td>\n",
       "      <td>1.000000</td>\n",
       "      <td>11.000000</td>\n",
       "      <td>1.000000</td>\n",
       "    </tr>\n",
       "    <tr>\n",
       "      <th>25%</th>\n",
       "      <td>1.720000e+05</td>\n",
       "      <td>1.000000</td>\n",
       "      <td>44.000000</td>\n",
       "      <td>2.000000</td>\n",
       "    </tr>\n",
       "    <tr>\n",
       "      <th>50%</th>\n",
       "      <td>2.250000e+05</td>\n",
       "      <td>1.000000</td>\n",
       "      <td>61.000000</td>\n",
       "      <td>3.000000</td>\n",
       "    </tr>\n",
       "    <tr>\n",
       "      <th>75%</th>\n",
       "      <td>3.000000e+05</td>\n",
       "      <td>1.000000</td>\n",
       "      <td>72.250000</td>\n",
       "      <td>3.000000</td>\n",
       "    </tr>\n",
       "    <tr>\n",
       "      <th>max</th>\n",
       "      <td>6.026894e+06</td>\n",
       "      <td>49.000000</td>\n",
       "      <td>2426.000000</td>\n",
       "      <td>13.000000</td>\n",
       "    </tr>\n",
       "  </tbody>\n",
       "</table>\n",
       "</div>"
      ],
      "text/plain": [
       "       Valeur fonciere  Nombre de lots  Surface reelle bati  \\\n",
       "count     5.396000e+03     5396.000000          5396.000000   \n",
       "mean      3.099644e+05        1.159007            65.807821   \n",
       "std       4.604522e+05        0.789595            97.586265   \n",
       "min       1.000000e+00        1.000000            11.000000   \n",
       "25%       1.720000e+05        1.000000            44.000000   \n",
       "50%       2.250000e+05        1.000000            61.000000   \n",
       "75%       3.000000e+05        1.000000            72.250000   \n",
       "max       6.026894e+06       49.000000          2426.000000   \n",
       "\n",
       "       Nombre pieces principales  \n",
       "count                5396.000000  \n",
       "mean                    2.841549  \n",
       "std                     0.945358  \n",
       "min                     1.000000  \n",
       "25%                     2.000000  \n",
       "50%                     3.000000  \n",
       "75%                     3.000000  \n",
       "max                    13.000000  "
      ]
     },
     "execution_count": 48,
     "metadata": {},
     "output_type": "execute_result"
    }
   ],
   "source": [
    "print(\"Statistique descriptive\")\n",
    "dfAppartMaisonRowsDropQuantitatif.describe()"
   ]
  },
  {
   "cell_type": "markdown",
   "metadata": {},
   "source": [
    "### <font color=blue>Fusion des deux dataframe.</font>"
   ]
  },
  {
   "cell_type": "code",
   "execution_count": 49,
   "metadata": {},
   "outputs": [
    {
     "name": "stdout",
     "output_type": "stream",
     "text": [
      "Fusion des deux dataframe qualitatif et quantitatif en un seul\n"
     ]
    }
   ],
   "source": [
    "print(\"Fusion des deux dataframe qualitatif et quantitatif en un seul\")\n",
    "dfFusion_QalQant = pd.merge(dfAppartMaisonRowsDropQuantitatif, dummy_dfAppartMaisonRowsDropQualitatif, right_index=True, left_index=True)"
   ]
  },
  {
   "cell_type": "markdown",
   "metadata": {},
   "source": [
    "# <font color=red>Modélisation et évaluation.</font>"
   ]
  },
  {
   "cell_type": "markdown",
   "metadata": {},
   "source": [
    "Notre choix de modèle portera sur:\n",
    "- Un arbre de décision\n",
    "- Une forêt d'arbre de décision.\n",
    "- Un arbre décision randomisé\n",
    "- Un arbre de décision 'boosté'\n",
    "\n",
    "Notre choix s'est porté sur l'arbre de décision car il n'est pas sensible aux valeurs extrêmes."
   ]
  },
  {
   "cell_type": "code",
   "execution_count": 50,
   "metadata": {},
   "outputs": [
    {
     "name": "stdout",
     "output_type": "stream",
     "text": [
      "Dimension du nouveau jeu de données:  5396 lignes et  5281 colonnes\n",
      "Informations sur le type des données.\n",
      "<class 'pandas.core.frame.DataFrame'>\n",
      "Int64Index: 5396 entries, 1748 to 2527552\n",
      "Columns: 5281 entries, Valeur fonciere to Mois_12\n",
      "dtypes: float64(2), int64(2), uint8(5277)\n",
      "memory usage: 27.5 MB\n"
     ]
    }
   ],
   "source": [
    "print(\"Dimension du nouveau jeu de données: \", dfFusion_QalQant.shape[0], \"lignes et \", dfFusion_QalQant.shape[1], \"colonnes\")\n",
    "print(\"Informations sur le type des données.\")\n",
    "dfFusion_QalQant.info()"
   ]
  },
  {
   "cell_type": "markdown",
   "metadata": {},
   "source": [
    "### <font color=blue>Sélection de variables.</font>"
   ]
  },
  {
   "cell_type": "markdown",
   "metadata": {},
   "source": [
    "Une observation claire pour nous est le nombre pléthorique de variable au regard du nombre d'observations."
   ]
  },
  {
   "cell_type": "code",
   "execution_count": null,
   "metadata": {},
   "outputs": [],
   "source": [
    "\"\"\"\n",
    "RFE: Feature selection\n",
    "\"\"\"\n",
    "\"\"\"\n",
    "print(\"Selection with Decision Tree Regressor\")\n",
    "tree = DecisionTreeRegressor()\n",
    "selecteur = RFE(estimator = tree, n_features_to_select = 75)  # on peut choisir le nombre de feature n_features_to_select = ....\n",
    "sol = selecteur.fit(X_train, y_train)\n",
    "print(sol.n_features_)\n",
    "print(\"Identification des variables les plus pertinentes\")\n",
    "variables = list(zip(sol.support_, X.columns))\n",
    "interval = 15\n",
    "indexe = 5910\n",
    "variables[indexe:indexe + interval]\n",
    "print(sol.support_)\n",
    "print(sol.ranking_)\n",
    "\"\"\"\n",
    "\n",
    "\"\"\"\n",
    "X_train_new = X_train[:, sol.support_]\n",
    "print(X_train_new.shape)\n",
    "X_test_new = X_test[:, sol.support_]\n",
    "\n",
    "\"\"\""
   ]
  },
  {
   "cell_type": "code",
   "execution_count": 51,
   "metadata": {},
   "outputs": [
    {
     "name": "stdout",
     "output_type": "stream",
     "text": [
      "Coefficient de correlation de Peason's\n"
     ]
    }
   ],
   "source": [
    "print(\"Coefficient de correlation de Peason's\")\n",
    "cor = dfFusion_QalQant.corr()\n",
    "cor_target = abs(cor['Valeur fonciere'])"
   ]
  },
  {
   "cell_type": "code",
   "execution_count": 161,
   "metadata": {},
   "outputs": [
    {
     "name": "stdout",
     "output_type": "stream",
     "text": [
      "Selection des variables en fonction d'un seuil\n",
      "seuil =  0.02355\n",
      "Pour un seuil de: 0.02355 , il y a: 204 variables.\n"
     ]
    }
   ],
   "source": [
    "print(\"Selection des variables en fonction d'un seuil\")\n",
    "seuil = 0.02355\n",
    "print(\"seuil = \", seuil)\n",
    "best_features = cor_target[cor_target > seuil]\n",
    "print(\"Pour un seuil de:\", seuil, \", il y a:\", len(best_features), \"variables.\")"
   ]
  },
  {
   "cell_type": "code",
   "execution_count": 162,
   "metadata": {},
   "outputs": [],
   "source": [
    "dfSelected = dfFusion_QalQant[list(set(best_features.index))]\n",
    "X = dfSelected.drop('Valeur fonciere', axis = 1)\n",
    "y = dfSelected['Valeur fonciere']\n",
    "# train test split\n",
    "X_train, X_test, y_train, y_test = train_test_split(X,y, random_state=123, test_size=0.2)"
   ]
  },
  {
   "cell_type": "code",
   "execution_count": 135,
   "metadata": {},
   "outputs": [
    {
     "name": "stdout",
     "output_type": "stream",
     "text": [
      "Liste des variables les plus pertinentes en fonction d'un seuil:\n",
      "seuil =  0.1\n",
      "['Valeur fonciere', 'Code voie_0063', 'Code voie_1075', 'Code voie_1263', 'Code voie_4160', 'Code voie_5204', 'Code voie_6640', 'Code voie_6868', 'Voie_CAP DE CROIX', 'Voie_CHARLES DE GAULLE', 'Voie_COMTESSE LILY PASTRE', 'Voie_DES GRESILLONS', 'Voie_DU PIN', 'Voie_JULES GUESDE', 'Voie_MAGIN', 'Voie_PARMENTIER', 'Code postal_13010.0', 'Code postal_44300.0', 'Code postal_6100.0', 'Code postal_77100.0', 'Commune_MARSEILLE 10EME', 'Commune_NANTES', 'Commune_NANTEUIL-LES-MEAUX', 'Code departement_44', 'Code departement_92', 'Section_EW', 'Section_NT', 'Jour_26', 'Mois_02']\n"
     ]
    }
   ],
   "source": [
    "print(\"Liste des variables les plus pertinentes en fonction d'un seuil:\")\n",
    "seuil = 0.1\n",
    "print(\"seuil = \", seuil)\n",
    "best_features = cor_target[cor_target > seuil]\n",
    "print(list(best_features.index))"
   ]
  },
  {
   "cell_type": "markdown",
   "metadata": {},
   "source": [
    "#### <font color=blue>Modèle et Mesure de performance du modèle.</font>"
   ]
  },
  {
   "cell_type": "code",
   "execution_count": 163,
   "metadata": {},
   "outputs": [],
   "source": [
    "reel = y_test"
   ]
  },
  {
   "cell_type": "code",
   "execution_count": 150,
   "metadata": {},
   "outputs": [],
   "source": [
    "def performance(algo_name,reel, predit):\n",
    "    mae = round(mean_absolute_error(reel,predit),2)\n",
    "    mdae = round(median_absolute_error(reel,predit),2)\n",
    "    r2 = round(r2_score(reel, predit),2)\n",
    "    return algo_name,mae, mdae, r2"
   ]
  },
  {
   "cell_type": "markdown",
   "metadata": {},
   "source": [
    "##### <font color=black>Warning !!.</font>\n",
    "S'assurer lorsqu'on choisit une modélisation avec toutes les variables (X_train, X_test) ou avec sélection de variable (X_train_new, X_test_new) d'effectuer les changements."
   ]
  },
  {
   "cell_type": "markdown",
   "metadata": {},
   "source": [
    "##### <font color=black>Gradient Boosting Regressor.</font>"
   ]
  },
  {
   "cell_type": "code",
   "execution_count": 164,
   "metadata": {},
   "outputs": [],
   "source": [
    "def trainGradient(X,y):\n",
    "    grad = GradientBoostingRegressor(random_state=0).fit(X,y)\n",
    "    return grad\n",
    "modelG = trainGradient(X_train, y_train)"
   ]
  },
  {
   "cell_type": "code",
   "execution_count": 165,
   "metadata": {},
   "outputs": [
    {
     "name": "stdout",
     "output_type": "stream",
     "text": [
      "Gradient Regressor\n",
      "Mean Absolute Error:  73726.2\n",
      "Median absolute error:  46766.16\n",
      "R2:  0.9\n"
     ]
    }
   ],
   "source": [
    "algo_name = \"Gradient Regressor\"\n",
    "y_pred=modelG.predict(X_test)\n",
    "predit = y_pred\n",
    "print(algo_name)\n",
    "print(\"Mean Absolute Error: \", performance(algo_name, reel, predit)[1])\n",
    "print(\"Median absolute error: \", performance(algo_name, reel, predit)[2])\n",
    "print(\"R2: \", performance(algo_name, reel, predit)[3])"
   ]
  },
  {
   "cell_type": "markdown",
   "metadata": {},
   "source": [
    "##### <font color=black>RF Regressor.</font>"
   ]
  },
  {
   "cell_type": "code",
   "execution_count": 166,
   "metadata": {},
   "outputs": [],
   "source": [
    "def trainRFRegressor(X,y):\n",
    "    rfR = RandomForestRegressor(max_depth=5, random_state=0).fit(X,y)\n",
    "    return  rfR\n",
    "modelR = trainRFRegressor(X_train, y_train)"
   ]
  },
  {
   "cell_type": "code",
   "execution_count": 167,
   "metadata": {},
   "outputs": [
    {
     "name": "stdout",
     "output_type": "stream",
     "text": [
      "RF Regressor\n",
      "Mean Absolute Error:  105829.8\n",
      "Median absolute error:  67763.52\n",
      "R2:  0.78\n"
     ]
    }
   ],
   "source": [
    "algo_name = \"RF Regressor\"\n",
    "y_pred=modelR.predict(X_test)\n",
    "predit = y_pred\n",
    "print(algo_name)\n",
    "print(\"Mean Absolute Error: \", performance(algo_name, reel, predit)[1])\n",
    "print(\"Median absolute error: \", performance(algo_name, reel, predit)[2])\n",
    "print(\"R2: \", performance(algo_name, reel, predit)[3])"
   ]
  },
  {
   "cell_type": "markdown",
   "metadata": {},
   "source": [
    "##### <font color=black>Extra Trees Regressor.</font>"
   ]
  },
  {
   "cell_type": "code",
   "execution_count": 168,
   "metadata": {},
   "outputs": [],
   "source": [
    "def trainTreeRegressor(X,y):\n",
    "    treeR = ExtraTreesRegressor(random_state=0).fit(X,y)\n",
    "    return  treeR\n",
    "modelT = trainTreeRegressor(X_train, y_train)"
   ]
  },
  {
   "cell_type": "code",
   "execution_count": 169,
   "metadata": {},
   "outputs": [
    {
     "name": "stdout",
     "output_type": "stream",
     "text": [
      "Extra Tree Regressor\n",
      "Mean Absolute Error:  65506.27\n",
      "Median absolute error:  34238.89\n",
      "R2 score:  0.89\n"
     ]
    }
   ],
   "source": [
    "algo_name = \"Extra Tree Regressor\"\n",
    "y_pred=modelT.predict(X_test)\n",
    "predit = y_pred\n",
    "print(algo_name)\n",
    "print(\"Mean Absolute Error: \", performance(algo_name, reel, predit)[1])\n",
    "print(\"Median absolute error: \", performance(algo_name, reel, predit)[2])\n",
    "print(\"R2 score: \", performance(algo_name, reel, predit)[3])"
   ]
  },
  {
   "cell_type": "markdown",
   "metadata": {},
   "source": [
    "##### <font color=black>Decisison Tree Regressor.</font>"
   ]
  },
  {
   "cell_type": "code",
   "execution_count": 170,
   "metadata": {},
   "outputs": [],
   "source": [
    "def decisionTree(X,y):\n",
    "    dt = DecisionTreeRegressor(random_state=0).fit(X,y)\n",
    "    return dt\n",
    "modelD = decisionTree(X_train, y_train)"
   ]
  },
  {
   "cell_type": "code",
   "execution_count": 171,
   "metadata": {},
   "outputs": [
    {
     "name": "stdout",
     "output_type": "stream",
     "text": [
      "Decision Tree Regressor\n",
      "Mean Absolute Error:  73040.99\n",
      "Median absolute error:  35000.0\n",
      "R2 score:  0.76\n"
     ]
    }
   ],
   "source": [
    "algo_name = \"Decision Tree Regressor\"\n",
    "y_pred=modelD.predict(X_test)\n",
    "predit = y_pred\n",
    "print(algo_name)\n",
    "print(\"Mean Absolute Error: \", performance(algo_name, reel, predit)[1])\n",
    "print(\"Median absolute error: \", performance(algo_name, reel, predit)[2])\n",
    "print(\"R2 score: \", performance(algo_name, reel, predit)[3])"
   ]
  },
  {
   "cell_type": "markdown",
   "metadata": {},
   "source": [
    "# <font color=red>Tableaux récapitulatifs</font>"
   ]
  },
  {
   "cell_type": "markdown",
   "metadata": {},
   "source": [
    "Tableau récapitulatif des Median Absolute Error\n",
    "\n",
    "| Nombre variables| Decision Tree  | Random Forest   | Gradient Boost|ExtraTrees  |\n",
    "|:-----------    | :-------------: | :----------: | :-----------: | ------------:|\n",
    "| 105            |     34279.04    |    67903     |    46424.67    |  34515.5   |\n",
    "| 204            |    35080     |     67763.52    |     46754.16   | 34238.89 |\n",
    "|Toutes          |    20948.0  |      66256.39   |    43297.17    |  17152.48   |"
   ]
  },
  {
   "cell_type": "markdown",
   "metadata": {},
   "source": [
    "Tableau récapitulatif des Mean Absolute Error\n",
    "\n",
    "| Nombre variables| Decision Tree  | Random Forest   | Gradient Boost | ExtraTrees  |\n",
    "|:-----------    | :-------------: | :----------: | :-----------: | ------------:|\n",
    "| 105            |     71906.34    |    106414.32     |   78364.35     |  68040.2   |\n",
    "| 204            |    73040.99     |    105829.8     |     73726.2     |   65506.27  |\n",
    "|Toutes          |    56273.27     |    104278.64    |     69987.03   |   42289.01  |"
   ]
  }
 ],
 "metadata": {
  "kernelspec": {
   "display_name": "Python 3",
   "language": "python",
   "name": "python3"
  },
  "language_info": {
   "codemirror_mode": {
    "name": "ipython",
    "version": 3
   },
   "file_extension": ".py",
   "mimetype": "text/x-python",
   "name": "python",
   "nbconvert_exporter": "python",
   "pygments_lexer": "ipython3",
   "version": "3.6.9"
  }
 },
 "nbformat": 4,
 "nbformat_minor": 2
}
